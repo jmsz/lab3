{
 "cells": [
  {
   "cell_type": "code",
   "execution_count": 1,
   "metadata": {
    "collapsed": true
   },
   "outputs": [],
   "source": [
    "%run ./lab1_analysis_functions.py"
   ]
  },
  {
   "cell_type": "code",
   "execution_count": 2,
   "metadata": {},
   "outputs": [
    {
     "name": "stdout",
     "output_type": "stream",
     "text": [
      "('M ', 4445.9118105773478)\n"
     ]
    }
   ],
   "source": [
    "tenevents = read_ten_event_file()\n",
    "\n",
    "M = find_M_value(tenevents)\n",
    "print('M ', M)"
   ]
  },
  {
   "cell_type": "code",
   "execution_count": 3,
   "metadata": {},
   "outputs": [],
   "source": [
    "tenevents = read_ten_event_file()\n",
    "ndata = len(tenevents)\n",
    "nsamples = 4096\n",
    "x_values = np.linspace(0, nsamples, nsamples)\n",
    "tenevents = fast_baseline_correction(tenevents)\n",
    "plt.figure()\n",
    "plt.cla()\n",
    "plt.clf()\n",
    "for event in tenevents[0:5]:\n",
    "    plt.plot(event)\n",
    "plt.xlim([950, 1020])\n",
    "plt.title('Raw Pulses')\n",
    "plt.ylabel('ADC value')\n",
    "plt.xlabel('sample')\n",
    "plt.savefig('../figures/tenevents_rawdata.pdf')\n",
    "# plt.show()"
   ]
  },
  {
   "cell_type": "code",
   "execution_count": 4,
   "metadata": {},
   "outputs": [],
   "source": [
    "k = 100 # 1 us\n",
    "m = 100 # 1 us\n",
    "\n",
    "plt.figure()\n",
    "plt.cla()\n",
    "plt.clf()\n",
    "for event in tenevents[0:5]:\n",
    "    event = fast_trapezoidal_filter(event, k, m, M=4400)\n",
    "    plt.plot(x_values, event)\n",
    "plt.xlim([950, 1325])\n",
    "plt.title('Filtered Pulses')\n",
    "plt.ylabel('ADC value')\n",
    "plt.xlabel('sample')\n",
    "plt.savefig('../figures/tenevents_filtered.pdf')\n",
    "# plt.show()"
   ]
  },
  {
   "cell_type": "code",
   "execution_count": 5,
   "metadata": {
    "collapsed": true
   },
   "outputs": [],
   "source": [
    "co_nrgs = read_nrg_sample_file('../data/co_energies.txt')\n",
    "cs_nrgs = read_nrg_sample_file('../data/cs_energies.txt')\n",
    "am_nrgs = read_nrg_sample_file('../data/am_energies.txt')"
   ]
  },
  {
   "cell_type": "code",
   "execution_count": 10,
   "metadata": {
    "collapsed": true
   },
   "outputs": [],
   "source": [
    "m = 57\n",
    "k = 1127\n",
    "M = 5920.56"
   ]
  },
  {
   "cell_type": "code",
   "execution_count": 11,
   "metadata": {},
   "outputs": [
    {
     "name": "stdout",
     "output_type": "stream",
     "text": [
      "========  Final Filter Parameters  ========\n",
      " gap time (m)     = 570 ns\n",
      " peaking time (k) = 11270 ns\n",
      " decay time (M)   = 592.06 ns\n",
      "===========================================\n"
     ]
    }
   ],
   "source": [
    "# Final Filter Paramters\n",
    "print(\"========  Final Filter Parameters  ========\")\n",
    "print(' gap time (m)     = ' + str(m * 10) + ' ns')\n",
    "print(' peaking time (k) = ' + str(k * 10) + ' ns')\n",
    "print(' decay time (M)   = ' + str(round(M / 10,2)) + ' ns')\n",
    "print(\"===========================================\")\n",
    "\n",
    "save_parameters(m * 10 , k * 10 , M / 10)"
   ]
  },
  {
   "cell_type": "code",
   "execution_count": 18,
   "metadata": {},
   "outputs": [],
   "source": [
    "# GET ENERGY RESOLUTION FOR DIFFERENT PEAKS\n",
    "# GET ENERGY RESOLUTION FOR DIFFERENT PEAKS\n",
    "\n",
    "fwhm_peak_values = []\n",
    "fwhm_peak_energies = []\n",
    "fwhm_pulser_values = []\n",
    "peak_err = []\n",
    "pulser_err = []\n",
    "\n",
    "# AM-241\n",
    "am_counts, bin_edges = np.histogram(am_nrgs, bins=2048, range=[0, 400])\n",
    "am_bins = (bin_edges[1:]+bin_edges[:-1])/2 # bin centers from bin edges\n",
    "am_bins = am_bins[10:250] \n",
    "am_counts = am_counts[10:250]\n",
    "peak_fwhm, peak_center ,err = fit_gaussian_peak_linear_background(am_bins, am_counts)\n",
    "fwhm_peak_values.append(round(peak_fwhm / peak_center, 7) * 100)\n",
    "fwhm_peak_energies.append(59.536)\n",
    "peak_err.append(err * 100 / peak_center)\n",
    "\n",
    "# AM-PULSER\n",
    "\n",
    "am_counts, bin_edges = np.histogram(am_nrgs, bins=2048, range=[0, 400])\n",
    "am_bins = (bin_edges[1:]+bin_edges[:-1])/2 # bin centers from bin edges\n",
    "am_bins = am_bins[1000:2000] \n",
    "am_counts = am_counts[1000:2000]\n",
    "pulser_fwhm, pulser_center ,err = fit_gaussian_peak_linear_background(am_bins, am_counts)\n",
    "fwhm_pulser_values.append(round(pulser_fwhm / pulser_center, 7) * 100)\n",
    "pulser_err.append(err* 100 / pulser_center)\n",
    "\n",
    "# CS-662\n",
    "cs_counts, bin_edges = np.histogram(cs_nrgs, bins=2048, range=[0, 512])\n",
    "cs_bins = (bin_edges[1:]+bin_edges[:-1])/2 # bin centers from bin edges\n",
    "cs_bins = cs_bins[1000:2000]\n",
    "cs_counts = cs_counts[1000:2000]\n",
    "cs_peak_fwhm, cs_peak_center, err = fit_gaussian_peak_linear_background(cs_bins, cs_counts)\n",
    "\n",
    "fwhm_peak_values.append(round(cs_peak_fwhm / cs_peak_center, 7) * 100)\n",
    "fwhm_peak_energies.append(661.615)\n",
    "peak_err.append(err* 100 / cs_peak_center)\n",
    "\n",
    "# CS-PULSER\n",
    "cs_counts, bin_edges = np.histogram(cs_nrgs, bins=2048, range=[900, 900+512])\n",
    "cs_bins = (bin_edges[1:]+bin_edges[:-1])/2 # bin centers from bin edges\n",
    "cs_bins = cs_bins[100:1000]\n",
    "cs_counts = cs_counts[100:1000]\n",
    "cs_pulser_fwhm, cs_pulser_center, err = fit_gaussian_peak_linear_background(cs_bins, cs_counts)\n",
    "fwhm_pulser_values.append(round(cs_pulser_fwhm / cs_pulser_center, 7) * 100)\n",
    "pulser_err.append(err * 100 / cs_pulser_center)\n",
    "\n",
    "# CO-1173\n",
    "co_counts, bin_edges = np.histogram(co_nrgs, bins=2048, range=[0, 1024])\n",
    "co_bins = (bin_edges[1:]+bin_edges[:-1])/2 # bin centers from bin edges\n",
    "peak_1_fwhm, peak_1_center, err = fit_gaussian_peak_linear_background(co_bins[1200:1450], co_counts[1200:1450])\n",
    "fwhm_peak_values.append(round(peak_1_fwhm / peak_1_center, 7) * 100)\n",
    "fwhm_peak_energies.append(1173.231)\n",
    "peak_err.append(err * 100 / peak_1_center)\n",
    "\n",
    "# CO-1332\n",
    "co_counts, bin_edges = np.histogram(co_nrgs, bins=2048, range=[0, 1024])\n",
    "co_bins = (bin_edges[1:]+bin_edges[:-1])/2 # bin centers from bin edges\n",
    "co_bins = co_bins[1400:1600]\n",
    "co_counts = co_counts[1400:1600]\n",
    "peak_2_fwhm, peak_2_center,err = fit_gaussian_peak_linear_background(co_bins, co_counts)\n",
    "fwhm_peak_values.append(round(peak_2_fwhm / peak_2_center, 7) * 100)\n",
    "fwhm_peak_energies.append(1332.508)\n",
    "peak_err.append(err * 100/ peak_2_center)\n",
    "\n",
    "# CO-PULSER\n",
    "co_counts, bin_edges = np.histogram(co_nrgs, bins=2048, range=[512, 1024])\n",
    "co_bins = (bin_edges[1:]+bin_edges[:-1])/2 # bin centers from bin edges\n",
    "co_bins = co_bins[1800:] \n",
    "co_counts = co_counts[1800:]\n",
    "pulser_fwhm, pulser_center,err = fit_gaussian_peak_linear_background(co_bins, co_counts)\n",
    "fwhm_pulser_values.append(round(pulser_fwhm / pulser_center, 7) * 100)\n",
    "pulser_err.append(err * 100/ pulser_center)"
   ]
  },
  {
   "cell_type": "code",
   "execution_count": 24,
   "metadata": {},
   "outputs": [
    {
     "data": {
      "image/png": "[encoded data removed]",
      "text/plain": [
       "<matplotlib.figure.Figure at 0x10ae9d490>"
      ]
     },
     "metadata": {},
     "output_type": "display_data"
    }
   ],
   "source": [
    "plt.figure(2)\n",
    "plt.plot(fwhm_peak_energies, fwhm_peak_values, 'ob')\n",
    "plt.errorbar(fwhm_peak_energies[1:], fwhm_peak_values[1:], yerr=peak_err, ecolor='b')\n",
    "plt.title('Resolution vs. Energy')\n",
    "plt.ylabel('fwhm (%)')\n",
    "plt.xlabel('energy (keV)')\n",
    "plt.savefig('../figures/fwhm_vs_energy.pdf')\n",
    "plt.show()"
   ]
  },
  {
   "cell_type": "code",
   "execution_count": 9,
   "metadata": {},
   "outputs": [
    {
     "name": "stdout",
     "output_type": "stream",
     "text": [
      "('average fano factor: ', 0.992)\n",
      "[10961.968, 2.84, 0.068, 0.068]\n"
     ]
    }
   ],
   "source": [
    "# find fano factor\n",
    "\n",
    "fano_list = []\n",
    "fwhm_elec = np.mean(fwhm_pulser_values[-2:-1]) # Am-241 pulser value is very differnet. Shouldn't depend on energy. Ignore for now.\n",
    "for i in range(0, len(fwhm_peak_energies), 1):\n",
    "    e = fwhm_peak_energies[i]\n",
    "    fwhm =(fwhm_peak_values[i] / 100) # was a percent\n",
    "    fwhm = fwhm - (fwhm_elec / 100)\n",
    "    fwhm = fwhm * fwhm_peak_energies[i] #fwhm in kev\n",
    "    fano =fwhm * (1/2.35) * np.sqrt(1/(e*(2.9*10**(-3)))) \n",
    "    fano = fano**2\n",
    "    fano = round(fano, 3)\n",
    "    fano_list.append(fano)\n",
    "    \n",
    "fano = round(np.mean(fano_list[1:]),3)\n",
    "print('average fano factor: ', fano)\n",
    "print(fano_list)\n",
    "\n",
    "pulser_err=np.mean(pulser_err)\n",
    "peak_err=np.mean(peak_err)\n",
    "err_tot = np.sqrt((pulser_err/100)**2 + (peak_err/100)**2)\n",
    "save_fano(fano, err)"
   ]
  },
  {
   "cell_type": "code",
   "execution_count": null,
   "metadata": {
    "collapsed": true
   },
   "outputs": [],
   "source": [
    "print('ANALYSIS COMPLETE')"
   ]
  }
 ],
 "metadata": {
  "kernelspec": {
   "display_name": "Python 2",
   "language": "python",
   "name": "python2"
  },
  "language_info": {
   "codemirror_mode": {
    "name": "ipython",
    "version": 2
   },
   "file_extension": ".py",
   "mimetype": "text/x-python",
   "name": "python",
   "nbconvert_exporter": "python",
   "pygments_lexer": "ipython2",
   "version": "2.7.14"
  }
 },
 "nbformat": 4,
 "nbformat_minor": 2
}
