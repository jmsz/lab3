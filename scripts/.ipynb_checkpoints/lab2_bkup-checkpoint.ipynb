{
 "cells": [
  {
   "cell_type": "code",
   "execution_count": 17,
   "metadata": {
    "collapsed": true
   },
   "outputs": [],
   "source": [
    "%run ../scripts/lab2_analysis_functions.py"
   ]
  },
  {
   "cell_type": "code",
   "execution_count": 19,
   "metadata": {},
   "outputs": [],
   "source": [
    "filename = '/Users/Asia/Desktop/204/lab3/lab3/data/am1.h5'\n",
    "hf = tables.open_file(filename, \"r\")\n",
    "# raw_data_1 = import_data(filename)\n",
    "event_data_am1= hf.root.EventData.read()\n",
    "hf.close()\n",
    "\n",
    "filename = '/Users/Asia/Desktop/204/lab3/lab3/data/am2.h5'\n",
    "hf = tables.open_file(filename, \"r\")\n",
    "# raw_data_2 = import_data(filename)\n",
    "event_data_am2= hf.root.EventData.read()\n",
    "hf.close()\n",
    "\n",
    "filename = '/Users/Asia/Desktop/204/lab3/lab3/data/cs1.h5'\n",
    "hf = tables.open_file(filename, \"r\")\n",
    "# raw_data_1 = import_data(filename)\n",
    "event_data_cs1= hf.root.EventData.read()\n",
    "hf.close()\n",
    "\n",
    "filename = '/Users/Asia/Desktop/204/lab3/lab3/data/cs2.h5'\n",
    "hf = tables.open_file(filename, \"r\")\n",
    "# raw_data_2 = import_data(filename)\n",
    "event_data_cs2= hf.root.EventData.read()\n",
    "hf.close()"
   ]
  },
  {
   "cell_type": "code",
   "execution_count": 33,
   "metadata": {},
   "outputs": [
    {
     "name": "stdout",
     "output_type": "stream",
     "text": [
      "(3754518,)\n",
      "(1877259,)\n",
      "(1877259,)\n"
     ]
    }
   ],
   "source": [
    "event_data_am = np.concatenate((event_data_am1, event_data_am2))\n",
    "event_data_am['ADC_value'][mask] = 0\n",
    "event_data_cs = np.concatenate((event_data_cs1, event_data_cs2))\n",
    "event_data_cs['ADC_value'][mask] = 0"
   ]
  },
  {
   "cell_type": "code",
   "execution_count": null,
   "metadata": {
    "collapsed": true
   },
   "outputs": [],
   "source": [
    "channels = []\n",
    "nrgs = []\n",
    "slopes = []\n",
    "intercepts = []\n",
    "\n",
    "#am range = [5.5e4, 6.5e4]\n",
    "#cs range = [6.2e5, 7.2e5]\n",
    "\n",
    "for i in range(10, 20, 1):\n",
    "    channels = (event_data[i]['detector'])\n",
    "    nrgs = (event_data[i]['ADC_value'])\n",
    "    \n",
    "    if nrgs.all == 0:\n",
    "        slopes.append(0)\n",
    "        intercepts.append(0)\n",
    "    else:\n",
    "        all_counts, bin_edges = np.histogram(nrgs, bins=4096, range = [1e3,4e5])\n",
    "        all_bins = (bin_edges[1:]+bin_edges[:-1])/2 # bin centers from bin edges\n",
    "        channels = all_bins\n",
    "        data = all_counts\n",
    "\n",
    "        K_energy = 1460.8\n",
    "        Cs_energy = 661.7\n",
    "        Cs_high = 870 * 2\n",
    "        Cs_low = 830 * 2\n",
    "        K_low = 1850 * 2\n",
    "        K_high = 1900 * 2\n",
    "        Cs_x_data = all_bins[Cs_low:Cs_high]\n",
    "        Cs_y_data = all_counts[Cs_low:Cs_high]\n",
    "        K_x_data = all_bins[K_low:K_high]\n",
    "        K_y_data = all_counts[K_low:K_high]\n",
    "\n",
    "        fwhm, Cs_centroid, err, amp = fit_gaussian_peak_linear_background(Cs_x_data, Cs_y_data)\n",
    "        fwhm, K_centroid, err, amp = fit_gaussian_peak_linear_background(K_x_data, K_y_data)\n",
    "\n",
    "        calibration_channels = [Cs_centroid, K_centroid]\n",
    "        calibration_energies = [Cs_energy, K_energy]\n",
    "        coefficients = calculate_coefficients(calibration_channels, calibration_energies, 1)\n",
    "        if len(coefficients) == 2:\n",
    "            slope = coefficients[0]\n",
    "            intercept = coefficients[1]\n",
    "        else:\n",
    "            print \"check polynomial order\"\n",
    "\n",
    "        energies = calculate_energies(channels, slope, intercept)\n",
    "        nrgs_kev = calculate_energies(channels, slope, intercept)\n",
    "\n",
    "        energies = energies[0:2048]\n",
    "        data = data[0:2048]\n",
    "\n",
    "        plt.figure(4, figsize=(7, 5))\n",
    "        plt.cla()\n",
    "        plt.clf()\n",
    "        plt.plot(energies, data, 'k-')\n",
    "        plt.xlabel('Energy (keV)')\n",
    "        plt.ylabel('Counts')\n",
    "        plt.title(\"Calibrated Spectrum\")\n",
    "        plt.legend(loc='upper right')\n",
    "        plt.tight_layout()\n",
    "        plt.savefig(\"./figures/CalibratedSpectrum.pdf\")\n",
    "        # plt.show()\n",
    "\n",
    "        slopes.append(slope)\n",
    "        intercepts.append(intercept)\n",
    "        \n",
    "    \n",
    "f = open('../data/calibration.txt','w')\n",
    "    for i in range(0, len(slopes), 1)\n",
    "        f.write(str(slopes[i]) + ', ' + str(intercepts[i]) + '\\n')\n",
    "    f.close()"
   ]
  },
  {
   "cell_type": "code",
   "execution_count": 7,
   "metadata": {
    "collapsed": true
   },
   "outputs": [],
   "source": [
    "nrgs_am = []\n",
    "for i in range(0, len(event_data_am),1):\n",
    "    nrgs_am.append(event_data_am[i]['ADC_value'])\n",
    "nrgs_cs = []\n",
    "for i in range(0, len(event_data_cs),1):\n",
    "    nrgs_cs.append(event_data_cs[i]['ADC_value'])"
   ]
  },
  {
   "cell_type": "code",
   "execution_count": 10,
   "metadata": {},
   "outputs": [
    {
     "ename": "NameError",
     "evalue": "name 'nrgs_20' is not defined",
     "output_type": "error",
     "traceback": [
      "\u001b[0;31m---------------------------------------------------------------------------\u001b[0m",
      "\u001b[0;31mNameError\u001b[0m                                 Traceback (most recent call last)",
      "\u001b[0;32m<ipython-input-10-174db3cd277d>\u001b[0m in \u001b[0;36m<module>\u001b[0;34m()\u001b[0m\n\u001b[0;32m----> 1\u001b[0;31m \u001b[0mall_counts\u001b[0m\u001b[0;34m,\u001b[0m \u001b[0mbin_edges\u001b[0m \u001b[0;34m=\u001b[0m \u001b[0mnp\u001b[0m\u001b[0;34m.\u001b[0m\u001b[0mhistogram\u001b[0m\u001b[0;34m(\u001b[0m\u001b[0mnrgs_20\u001b[0m\u001b[0;34m,\u001b[0m \u001b[0mbins\u001b[0m\u001b[0;34m=\u001b[0m\u001b[0;36m526\u001b[0m\u001b[0;34m,\u001b[0m \u001b[0mrange\u001b[0m \u001b[0;34m=\u001b[0m \u001b[0;34m[\u001b[0m\u001b[0;36m6.2e5\u001b[0m\u001b[0;34m,\u001b[0m \u001b[0;36m7.2e5\u001b[0m\u001b[0;34m]\u001b[0m\u001b[0;34m)\u001b[0m\u001b[0;34m\u001b[0m\u001b[0m\n\u001b[0m\u001b[1;32m      2\u001b[0m \u001b[0;31m#am range = [5.5e4, 6.5e4]\u001b[0m\u001b[0;34m\u001b[0m\u001b[0;34m\u001b[0m\u001b[0m\n\u001b[1;32m      3\u001b[0m \u001b[0;31m# cs range = [6.2e5, 7.2e5]\u001b[0m\u001b[0;34m\u001b[0m\u001b[0;34m\u001b[0m\u001b[0m\n\u001b[1;32m      4\u001b[0m \u001b[0mall_bins\u001b[0m \u001b[0;34m=\u001b[0m \u001b[0;34m(\u001b[0m\u001b[0mbin_edges\u001b[0m\u001b[0;34m[\u001b[0m\u001b[0;36m1\u001b[0m\u001b[0;34m:\u001b[0m\u001b[0;34m]\u001b[0m\u001b[0;34m+\u001b[0m\u001b[0mbin_edges\u001b[0m\u001b[0;34m[\u001b[0m\u001b[0;34m:\u001b[0m\u001b[0;34m-\u001b[0m\u001b[0;36m1\u001b[0m\u001b[0;34m]\u001b[0m\u001b[0;34m)\u001b[0m\u001b[0;34m/\u001b[0m\u001b[0;36m2\u001b[0m \u001b[0;31m# bin centers from bin edges\u001b[0m\u001b[0;34m\u001b[0m\u001b[0m\n\u001b[1;32m      5\u001b[0m \u001b[0mplt\u001b[0m\u001b[0;34m.\u001b[0m\u001b[0msemilogy\u001b[0m\u001b[0;34m(\u001b[0m\u001b[0mall_bins\u001b[0m\u001b[0;34m,\u001b[0m \u001b[0mall_counts\u001b[0m\u001b[0;34m,\u001b[0m \u001b[0;34m'r'\u001b[0m\u001b[0;34m)\u001b[0m\u001b[0;34m\u001b[0m\u001b[0m\n",
      "\u001b[0;31mNameError\u001b[0m: name 'nrgs_20' is not defined"
     ]
    }
   ],
   "source": [
    "all_counts, bin_edges = np.histogram(nrgs_20, bins=526, range = [6.2e5, 7.2e5])\n",
    "#am range = [5.5e4, 6.5e4]\n",
    "# cs range = [6.2e5, 7.2e5]\n",
    "all_bins = (bin_edges[1:]+bin_edges[:-1])/2 # bin centers from bin edges\n",
    "plt.semilogy(all_bins, all_counts, 'r')\n",
    "all_counts, bin_edges = np.histogram(nrgs_21, bins=128, range = [6.2e5, 7.2e5])\n",
    "all_bins = (bin_edges[1:]+bin_edges[:-1])/2 # bin centers from bin edges\n",
    "plt.semilogy(all_bins, all_counts, 'g')\n",
    "all_counts, bin_edges = np.histogram(nrgs_22, bins=128, range = [6.2e5, 7.2e5])\n",
    "all_bins = (bin_edges[1:]+bin_edges[:-1])/2 # bin centers from bin edges\n",
    "plt.semilogy(all_bins, all_counts, 'b')\n",
    "plt.show()\n",
    "fit_gaussian_peak_linear_background(all_bins, all_counts)"
   ]
  },
  {
   "cell_type": "code",
   "execution_count": null,
   "metadata": {},
   "outputs": [],
   "source": [
    "channels_42 = []\n",
    "nrgs_42 = []\n",
    "for i in range(0, len(event_data),1):\n",
    "    if event_data[i]['detector'] == 42:\n",
    "        channels_42.append(event_data[i]['detector'])\n",
    "        nrgs_42.append(event_data[i]['ADC_value'])\n",
    "#print(channels_20)\n",
    "#print(nrgs_20)\n",
    "all_counts, bin_edges = np.histogram(nrgs_42, bins=128, range = [5.5e4, 6.5e4])\n",
    "all_bins = (bin_edges[1:]+bin_edges[:-1])/2 # bin centers from bin edges\n",
    "plt.semilogy(all_bins, all_counts, 'b')\n",
    "plt.show()\n",
    "\n",
    "channels_145 = []\n",
    "nrgs_145 = []\n",
    "for j in range(100, 150, 1):\n",
    "    print(j)\n",
    "    nrgs_145 = []\n",
    "    for i in range(0, len(event_data),1):\n",
    "        if event_data[i]['detector'] == j:\n",
    "            #channels_145.append(event_data[i]['detector'])\n",
    "            nrgs_145.append(event_data[i]['ADC_value'])\n",
    "    all_counts, bin_edges = np.histogram(nrgs_145, bins=128, range = [5.5e4, 6.5e4])\n",
    "    all_bins = (bin_edges[1:]+bin_edges[:-1])/2 # bin centers from bin edges\n",
    "    plt.semilogy(all_bins, all_counts, 'b')\n",
    "    plt.show()\n"
   ]
  },
  {
   "cell_type": "code",
   "execution_count": null,
   "metadata": {
    "collapsed": true
   },
   "outputs": [],
   "source": [
    "all_counts, bin_edges = np.histogram(nrgs_42, bins=2048, range = [4e3, 1e6])\n",
    "all_bins = (bin_edges[1:]+bin_edges[:-1])/2 # bin centers from bin edges\n",
    "plt.plot(all_bins, all_counts, 'b')\n",
    "plt.show()"
   ]
  },
  {
   "cell_type": "code",
   "execution_count": null,
   "metadata": {
    "collapsed": true
   },
   "outputs": [],
   "source": [
    "for i in range(0, 12, 1):\n",
    "    mask = event_data['detector'] == i\n",
    "    nrgs = event_data[mask]['ADC_value']\n",
    "    all_counts, bin_edges = np.histogram(nrgs_20, bins=2048, range=[0,4e3])\n",
    "    all_bins = (bin_edges[1:]+bin_edges[:-1])/2 # bin centers from bin edges\n",
    "    plt.semilogy(all_bins, all_counts, 'b')\n",
    "    plt.show()"
   ]
  },
  {
   "cell_type": "code",
   "execution_count": null,
   "metadata": {
    "collapsed": true
   },
   "outputs": [],
   "source": [
    "on_bins = []\n",
    "on_counts = []\n",
    "\n",
    "for i in range(0, len(counts)):\n",
    "    #print(counts[i])\n",
    "    if counts[i] > 100:\n",
    "        on_bins.append(bin_edges[i])\n",
    "        on_counts.append(counts[i])\n",
    "plt.plot( on_bins, on_counts)\n",
    "plt.show()\n",
    "print(np.amax(on_bins))\n",
    "print(np.amin(on_bins))\n",
    "\n",
    "\n",
    "all_counts, bin_edges = np.histogram(nrgs, bins=2048, range=[0,100e5])\n",
    "all_bins = (bin_edges[1:]+bin_edges[:-1])/2 # bin centers from bin edges\n",
    "plt.semilogy(all_bins, all_counts, 'b')\n",
    "plt.show()\n",
    "all_counts, bin_edges = np.histogram(nrgs, bins=2048, range=[0,0.7e5])\n",
    "all_bins = (bin_edges[1:]+bin_edges[:-1])/2 # bin centers from bin edges\n",
    "plt.semilogy(all_bins, all_counts, 'b')\n",
    "plt.show()\n",
    "all_counts, bin_edges = np.histogram(nrgs, bins=200, range=[6.7e5,7.5e5])\n",
    "all_bins = (bin_edges[1:]+bin_edges[:-1])/2 # bin centers from bin edges\n",
    "plt.semilogy(all_bins, all_counts, 'b')\n",
    "plt.show()\n",
    "all_counts, bin_edges = np.histogram(nrgs, bins=2048, range=[1e3,4e3])\n",
    "all_bins = (bin_edges[1:]+bin_edges[:-1])/2 # bin centers from bin edges\n",
    "plt.semilogy(all_bins, all_counts, 'b')\n",
    "plt.show()\n",
    "plt.hist(nrgs, bins=2048,  range=[0,100e5],log=True)\n",
    "plt.show()"
   ]
  },
  {
   "cell_type": "code",
   "execution_count": null,
   "metadata": {
    "collapsed": true
   },
   "outputs": [],
   "source": []
  },
  {
   "cell_type": "code",
   "execution_count": null,
   "metadata": {
    "collapsed": true
   },
   "outputs": [],
   "source": []
  },
  {
   "cell_type": "code",
   "execution_count": null,
   "metadata": {
    "collapsed": true
   },
   "outputs": [],
   "source": []
  },
  {
   "cell_type": "code",
   "execution_count": 8,
   "metadata": {},
   "outputs": [
    {
     "name": "stdout",
     "output_type": "stream",
     "text": [
      "65535\n",
      "0\n"
     ]
    },
    {
     "data": {
      "image/png": "[encoded data removed]",
      "text/plain": [
       "<matplotlib.figure.Figure at 0x10a423610>"
      ]
     },
     "metadata": {},
     "output_type": "display_data"
    },
    {
     "data": {
      "image/png": "[encoded data removed]",
      "text/plain": [
       "<matplotlib.figure.Figure at 0x10239fc50>"
      ]
     },
     "metadata": {},
     "output_type": "display_data"
    },
    {
     "name": "stdout",
     "output_type": "stream",
     "text": [
      "0.5\n",
      "1.5\n",
      "2.5\n",
      "3.5\n",
      "4.5\n",
      "5.5\n",
      "6.5\n",
      "7.5\n",
      "37.5\n",
      "98.5\n",
      "104.5\n",
      "146.5\n",
      "149.5\n",
      "150.5\n"
     ]
    }
   ],
   "source": [
    "print(np.amax(channels))\n",
    "print(np.amin(channels))\n",
    "plt.hist(channels, bins = 152, range = (0, 152))\n",
    "plt.show()\n",
    "\n",
    "counts, bin_edges = np.histogram(channels, bins=152, range=[0,152])\n",
    "bins = (bin_edges[1:]+bin_edges[:-1])/2 # bin centers from bin edges\n",
    "plt.plot(bins, counts, 'b')\n",
    "plt.show()\n",
    "\n",
    "for i in range(0, len(bins), 1):\n",
    "    if counts[i] < 10:\n",
    "        print(bins[i])"
   ]
  }
 ],
 "metadata": {
  "kernelspec": {
   "display_name": "Python 2",
   "language": "python",
   "name": "python2"
  },
  "language_info": {
   "codemirror_mode": {
    "name": "ipython",
    "version": 2
   },
   "file_extension": ".py",
   "mimetype": "text/x-python",
   "name": "python",
   "nbconvert_exporter": "python",
   "pygments_lexer": "ipython2",
   "version": "2.7.14"
  }
 },
 "nbformat": 4,
 "nbformat_minor": 2
}
