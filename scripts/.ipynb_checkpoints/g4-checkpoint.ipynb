{
 "cells": [
  {
   "cell_type": "code",
   "execution_count": 3,
   "metadata": {},
   "outputs": [
    {
     "name": "stdout",
     "output_type": "stream",
     "text": [
      "Using matplotlib backend: MacOSX\n",
      "Populating the interactive namespace from numpy and matplotlib\n"
     ]
    }
   ],
   "source": [
    "%pylab"
   ]
  },
  {
   "cell_type": "code",
   "execution_count": 1,
   "metadata": {
    "collapsed": true
   },
   "outputs": [],
   "source": [
    "# two square-faced planar HPGe crystals, 74 mm wide, 15 mm thick, parallel, separated by a gap of 10 mm\n",
    "# only contains HPGe detectors, no surrounding material\n",
    "# origin of the coordinate system is directly in the center of the two planar detectors\n",
    "# source = point source of Cs-137, emitting gamma-rays with energy 661.657 keV from a point 2 meters in front of the front-face of the first detector (i.e. the source location is (0, 0, -2m) in the simulation coordinate frame).\n"
   ]
  },
  {
   "cell_type": "code",
   "execution_count": 8,
   "metadata": {
    "collapsed": true
   },
   "outputs": [],
   "source": [
    "import tables\n",
    "hf = tables.open_file(\"../data/hits.h5\", \"r\")\n",
    "event_pointers = hf.root.EventPointers.read()\n",
    "event_lengths = hf.root.EventLengths.read()\n",
    "idata = hf.root.InteractionData.read()"
   ]
  },
  {
   "cell_type": "code",
   "execution_count": null,
   "metadata": {
    "collapsed": true
   },
   "outputs": [],
   "source": [
    "# interaction = 1 hit\n",
    "# event = all interactions from on gamma\n",
    "# copied from Ross \"InteractionData field contains information about \n",
    "#individual interactions in the detector, while the EventPointers and \n",
    "#EventLengths describe how the interactions are organized into events.\n",
    "#Each value in the EventPointers is an integer that points to the \n",
    "#index in the InteractionData array that indicates the start of an \n",
    "#event. The corresponding value in the EventLengths array describes \n",
    "#how many interactions constitute the event. The following cell gives \n",
    "#an example of how to load the n-th event from the data arrays.\""
   ]
  },
  {
   "cell_type": "code",
   "execution_count": 10,
   "metadata": {
    "collapsed": true
   },
   "outputs": [],
   "source": [
    "#EXAMPLE Load the n-th event from data\n",
    "#n = 12\n",
    "#pointer = event_pointers[n]\n",
    "#length = event_lengths[n]\n",
    "#event = idata[pointer:pointer+length]\n",
    "# Display the event\n",
    "#event"
   ]
  },
  {
   "cell_type": "code",
   "execution_count": null,
   "metadata": {
    "collapsed": true
   },
   "outputs": [],
   "source": [
    "# ENERGY SPECTRUM \n",
    "event_energies = []\n",
    "for i in range(0, len(event_pointers), 1):\n",
    "    pointer = event_pointers[i]\n",
    "    length = event_lengths[i]\n",
    "    energy = np.sum(idata['energy'][pointer:pointer+length])\n",
    "    event_energies.append(energy)\n",
    "event_energies = np.asarray(event_energies)\n",
    "\n",
    "#plt.cla()\n",
    "#plt.clf()\n",
    "#plt.hist(event_energies, bins = 100)\n",
    "#plt.savefig('../figures/g4_spectrum.pdf')\n",
    "#plt.show()"
   ]
  },
  {
   "cell_type": "code",
   "execution_count": 10,
   "metadata": {
    "collapsed": true
   },
   "outputs": [],
   "source": [
    "## select events by number of interactions\n",
    "\n",
    "#mask1 = (event_lengths==1)\n",
    "#mask2 = (event_lengths==2)\n",
    "#mask3 = (event_lengths==3)\n",
    "\n",
    "#plt.hist(event_energies[mask1], bins=100, log=True, histtype='step')\n",
    "#plt.hist(event_energies[mask2], bins=100, log=True, histtype='step')\n",
    "#plt.hist(event_energies[mask3], bins=100, log=True, histtype='step')\n",
    "#plt.show()"
   ]
  },
  {
   "cell_type": "code",
   "execution_count": 15,
   "metadata": {
    "collapsed": true
   },
   "outputs": [],
   "source": [
    "# energy weighted z coordinates for full E deposition in a signel crystal\n",
    "\n",
    "event_energies = []\n",
    "z_values = []\n",
    "z_values_all = []\n",
    "for i in range(0, len(event_pointers), 1):\n",
    "    #print('---', i)\n",
    "    pointer = event_pointers[i]\n",
    "    length = event_lengths[i]\n",
    "    energy = np.sum(idata['energy'][pointer:pointer+length])\n",
    "    z_coords = (idata['z'][pointer:pointer+length])\n",
    "    if (energy > 661.6):\n",
    "        neg = 0\n",
    "        pos = 0\n",
    "        for j in z_coords:\n",
    "            z_values_all.append(j)\n",
    "            if j > 0:\n",
    "                pos = 1\n",
    "            if j < 0:\n",
    "                neg = 1\n",
    "        if pos == 1 and neg == 0:\n",
    "            event_energies.append(energy)\n",
    "            z_val = []\n",
    "            for j in idata[pointer:pointer+length]:\n",
    "                z_val.append(j['z'] * j['energy'] / energy)\n",
    "            z_coord_1 = np.sum(np.asarray(z_val))\n",
    "            z_values.append(z_coord_1) \n",
    "        elif pos == 0 and neg == 1:\n",
    "            event_energies.append(energy)\n",
    "            z_val = []\n",
    "            for j in idata[pointer:pointer+length]:\n",
    "                z_val.append(j['z'] * j['energy'] / energy)\n",
    "            z_coord_1 = np.sum(np.asarray(z_val))\n",
    "            z_values.append(z_coord_1) \n",
    "            \n",
    "event_energies = np.asarray(event_energies)\n",
    "z_values = np.asarray(z_values)\n",
    "\n",
    "plt.hist(event_energies, bins = 100, log=True)\n",
    "plt.show()\n",
    "counts_weight, bin_edges = np.histogram(z_values, bins=60, range = [-30, 30])\n",
    "bins_weight = (bin_edges[1:]+bin_edges[:-1])/2 # bin centers from bin edges\n",
    "\n",
    "counts_all, bin_edges = np.histogram(z_values_all, bins=60, range = [-30, 30])\n",
    "bins_all = (bin_edges[1:]+bin_edges[:-1])/2 # bin centers from bin edges"
   ]
  },
  {
   "cell_type": "code",
   "execution_count": null,
   "metadata": {
    "collapsed": true
   },
   "outputs": [],
   "source": [
    "# single interaction z coordinates for full E deposition in a signle crystal\n",
    "\n",
    "event_energies = []\n",
    "z_values = []\n",
    "for i in range(0, len(event_pointers), 1):\n",
    "    pointer = event_pointers[i]\n",
    "    length = event_lengths[i]\n",
    "    energy = np.sum(idata['energy'][pointer:pointer+length])\n",
    "    if energy > 661.6:\n",
    "        event_energies.append(energy)\n",
    "        if length ==1:\n",
    "            z_values.append(idata['z'][pointer:pointer+length])\n",
    "        #elif length > 1:\n",
    "            #print(length)\n",
    "            \n",
    "event_energies = np.asarray(event_energies)\n",
    "z_values = np.asarray(z_values)\n",
    "\n",
    "counts, bin_edges = np.histogram(z_values, bins=60, range = [-30, 30])\n",
    "bins = (bin_edges[1:]+bin_edges[:-1])/2 # bin centers from bin edges"
   ]
  },
  {
   "cell_type": "code",
   "execution_count": 26,
   "metadata": {
    "collapsed": true
   },
   "outputs": [],
   "source": [
    "plt.cla()\n",
    "plt.clf()\n",
    "plt.plot(bins,counts,'b')\n",
    "plt.plot(bins_all,counts_all,'r')\n",
    "plt.plot(bins_weight,counts_weight,'g')\n",
    "plt.xlim([-25, 0])\n",
    "plt.savefig('../figures/detector1_g4_zpos.pdf')\n",
    "\n",
    "plt.cla()\n",
    "plt.clf()\n",
    "plt.plot(bins,counts,'b')\n",
    "plt.plot(bins_all,counts_all,'r')\n",
    "plt.plot(bins_weight,counts_weight,'g')\n",
    "plt.xlim([0,25])\n",
    "plt.savefig('../figures/detector2_g4_zpos.pdf')"
   ]
  },
  {
   "cell_type": "code",
   "execution_count": null,
   "metadata": {
    "collapsed": true
   },
   "outputs": [],
   "source": []
  },
  {
   "cell_type": "code",
   "execution_count": null,
   "metadata": {
    "collapsed": true
   },
   "outputs": [],
   "source": []
  }
 ],
 "metadata": {
  "kernelspec": {
   "display_name": "Python 2",
   "language": "python",
   "name": "python2"
  },
  "language_info": {
   "codemirror_mode": {
    "name": "ipython",
    "version": 2
   },
   "file_extension": ".py",
   "mimetype": "text/x-python",
   "name": "python",
   "nbconvert_exporter": "python",
   "pygments_lexer": "ipython2",
   "version": "2.7.14"
  }
 },
 "nbformat": 4,
 "nbformat_minor": 2
}
