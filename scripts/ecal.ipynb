{
 "cells": [
  {
   "cell_type": "code",
   "execution_count": 2,
   "metadata": {
    "collapsed": true
   },
   "outputs": [],
   "source": [
    "%run ../scripts/lab3_analysis_functions.py"
   ]
  },
  {
   "cell_type": "code",
   "execution_count": 3,
   "metadata": {},
   "outputs": [
    {
     "name": "stdout",
     "output_type": "stream",
     "text": [
      "Calibration Starting...\n"
     ]
    }
   ],
   "source": [
    "print('Calibration Starting...')"
   ]
  },
  {
   "cell_type": "code",
   "execution_count": 4,
   "metadata": {},
   "outputs": [],
   "source": [
    "filename = '../data/am1.h5'\n",
    "hf = tables.open_file(filename, \"r\")\n",
    "# raw_data_1 = import_data(filename)\n",
    "event_data_am1= hf.root.EventData.read()\n",
    "hf.close()\n",
    "\n",
    "filename = '../data/am2.h5'\n",
    "hf = tables.open_file(filename, \"r\")\n",
    "# raw_data_2 = import_data(filename)\n",
    "event_data_am2= hf.root.EventData.read()\n",
    "hf.close()\n",
    "\n",
    "filename = '../data/cs1.h5'\n",
    "hf = tables.open_file(filename, \"r\")\n",
    "# raw_data_1 = import_data(filename)\n",
    "event_data_cs1= hf.root.EventData.read()\n",
    "hf.close()\n",
    "\n",
    "filename = '../data/cs2.h5'\n",
    "hf = tables.open_file(filename, \"r\")\n",
    "# raw_data_2 = import_data(filename)\n",
    "event_data_cs2= hf.root.EventData.read()\n",
    "hf.close()\n",
    "\n",
    "filename = '../data/longCs.h5'\n",
    "hf = tables.open_file(filename, \"r\")\n",
    "# raw_data_2 = import_data(filename)\n",
    "event_data_cs= hf.root.EventData.read()\n",
    "hf.close()"
   ]
  },
  {
   "cell_type": "code",
   "execution_count": 5,
   "metadata": {},
   "outputs": [
    {
     "ename": "NameError",
     "evalue": "name 'event_data_cs1' is not defined",
     "output_type": "error",
     "traceback": [
      "\u001b[0;31m---------------------------------------------------------------------------\u001b[0m",
      "\u001b[0;31mNameError\u001b[0m                                 Traceback (most recent call last)",
      "\u001b[0;32m<ipython-input-5-3c12c0723983>\u001b[0m in \u001b[0;36m<module>\u001b[0;34m()\u001b[0m\n\u001b[1;32m      1\u001b[0m \u001b[0mevent_data_am\u001b[0m \u001b[0;34m=\u001b[0m \u001b[0mnp\u001b[0m\u001b[0;34m.\u001b[0m\u001b[0mconcatenate\u001b[0m\u001b[0;34m(\u001b[0m\u001b[0;34m(\u001b[0m\u001b[0mevent_data_am1\u001b[0m\u001b[0;34m,\u001b[0m \u001b[0mevent_data_am2\u001b[0m\u001b[0;34m)\u001b[0m\u001b[0;34m)\u001b[0m\u001b[0;34m\u001b[0m\u001b[0m\n\u001b[0;32m----> 2\u001b[0;31m \u001b[0mevent_data_cs\u001b[0m \u001b[0;34m=\u001b[0m \u001b[0mnp\u001b[0m\u001b[0;34m.\u001b[0m\u001b[0mconcatenate\u001b[0m\u001b[0;34m(\u001b[0m\u001b[0;34m(\u001b[0m\u001b[0mevent_data_cs1\u001b[0m\u001b[0;34m,\u001b[0m \u001b[0mevent_data_cs2\u001b[0m\u001b[0;34m,\u001b[0m \u001b[0mevent_data_cs3\u001b[0m\u001b[0;34m)\u001b[0m\u001b[0;34m)\u001b[0m\u001b[0;34m\u001b[0m\u001b[0m\n\u001b[0m",
      "\u001b[0;31mNameError\u001b[0m: name 'event_data_cs1' is not defined"
     ]
    }
   ],
   "source": [
    "event_data_am = np.concatenate((event_data_am1, event_data_am2))\n",
    "event_data_cs = np.concatenate((event_data_cs1, event_data_cs2, event_data_cs3))"
   ]
  },
  {
   "cell_type": "code",
   "execution_count": 6,
   "metadata": {
    "collapsed": true
   },
   "outputs": [],
   "source": [
    "nrgs_am = event_data_am['ADC_value']\n",
    "nrgs_cs = event_data_cs['ADC_value']\n",
    "channel_am = event_data_am['detector']\n",
    "channel_cs = event_data_cs['detector']\n",
    "energies = np.concatenate((nrgs_am, nrgs_cs))\n",
    "channels = np.concatenate((channel_am, channel_cs))\n",
    "\n",
    "all_counts, bin_edges = np.histogram(channels, bins=200, range = [0, 200])\n",
    "all_bins = (bin_edges[1:]+bin_edges[:-1])/2 # bin centers from bin edges\n",
    "plt.cla()\n",
    "plt.clf()\n",
    "plt.semilogy(all_bins, all_counts, 'b')\n",
    "plt.savefig('../figures/calibration-channels.pdf')"
   ]
  },
  {
   "cell_type": "code",
   "execution_count": 7,
   "metadata": {},
   "outputs": [
    {
     "name": "stdout",
     "output_type": "stream",
     "text": [
      "('channels not calibrated (out of 152) = ', 28)\n"
     ]
    }
   ],
   "source": [
    "slopes = []\n",
    "intercepts = []\n",
    "am_fwhm = []\n",
    "cs_fwhm =[]\n",
    "channels_fwhm = []\n",
    "cs_err = []\n",
    "am_err = []\n",
    "#am range = [5.5e4, 6.5e4]\n",
    "#cs range = [6.2e5, 7.2e5]\n",
    "\n",
    "am_energy = 59.54\n",
    "cs_energy = 661.7\n",
    "\n",
    "empty_channels = 0\n",
    "        \n",
    "for i in range(0,152, 1):\n",
    "    mask_am = (event_data_am['detector'] == i)\n",
    "    mask_cs = (event_data_cs['detector'] == i)\n",
    "    data_am = event_data_am[mask_am]\n",
    "    #print('am')\n",
    "    #print(len(data_am))\n",
    "    data_cs = event_data_cs[mask_cs]\n",
    "    #print('cs')\n",
    "    #print(len(data_cs))\n",
    "    \n",
    "    channels_am = (data_am['detector'])\n",
    "    nrgs_am = (data_am['ADC_value'])\n",
    "    channels_cs = (data_cs['detector'])\n",
    "    nrgs_cs = (data_cs['ADC_value'])\n",
    "    \n",
    "    channels_fwhm.append(i)\n",
    "\n",
    "    if len(nrgs_cs) < 50:\n",
    "        #print(i, ': empty')\n",
    "        slopes.append(0)\n",
    "        intercepts.append(0)\n",
    "        empty_channels += 1\n",
    "        am_fwhm.append(0)\n",
    "        cs_fwhm.append(0)\n",
    "        am_err.append(0)\n",
    "        cs_err.append(0)\n",
    "        #channels_fwhm.append(i)\n",
    "    elif i == 67 or i ==75 or i ==77 or i == 36 or i ==38 or i ==39 or i== 40 or i == 90 or i ==69:\n",
    "        #(i, ': empty')\n",
    "        slopes.append(0)\n",
    "        intercepts.append(0)\n",
    "        empty_channels += 1\n",
    "        am_fwhm.append(0)\n",
    "        cs_fwhm.append(0)\n",
    "        am_err.append(0)\n",
    "        cs_err.append(0)\n",
    "        #channels_fwhm.append(i)\n",
    "    else:\n",
    "        am_counts, bin_edges = np.histogram(nrgs_am, bins=256, range = [5.7e4, 6.6e4])\n",
    "        am_bins = (bin_edges[1:]+bin_edges[:-1])/2 # bin centers from bin edges\n",
    "        \n",
    "        odd_channels = [24, 36, 39, 40, 42, 55, 62, 65, 69, 80, 90, 124, 128, 19, 25, 28, 31, 34, 45, 53, 78, 121, 129, 136, 137]\n",
    "\n",
    "        if i in odd_channels:\n",
    "            cs_counts, bin_edges = np.histogram(nrgs_cs, bins=256, range = [5.0e5, 7.2e5])\n",
    "            cs_bins = (bin_edges[1:]+bin_edges[:-1])/2 # bin centers from bin edges   \n",
    "        else:\n",
    "            cs_counts, bin_edges = np.histogram(nrgs_cs, bins=256, range = [6.6e5, 7.2e5])\n",
    "            cs_bins = (bin_edges[1:]+bin_edges[:-1])/2 # bin centers from bin edges\n",
    "        if i == 24: # this channel has weird wide peak with high count channel right at edge and wasn't being fit properly\n",
    "            cs_counts, bin_edges = np.histogram(nrgs_cs, bins=256, range = [6.0e5, 6.8e5])\n",
    "            cs_bins = (bin_edges[1:]+bin_edges[:-1])/2 # bin centers from bin edges\n",
    "        if i == 68 or i == 62 or i == 53 or i ==69 or i ==78 or i ==80 or i ==124 or i ==9 or i ==10: # this channel has weird wide peak with high count channel right at edge and wasn't being fit properly\n",
    "            cs_counts, bin_edges = np.histogram(nrgs_cs, bins=256, range = [6.0e5, 7.0e5])\n",
    "            cs_bins = (bin_edges[1:]+bin_edges[:-1])/2 # bin centers from bin edges\n",
    "        if i == 69 or i == 90: # this channel has weird wide peak with high count channel right at edge and wasn't being fit properly\n",
    "            cs_counts, bin_edges = np.histogram(nrgs_cs, bins=256, range = [6.4e5, 6.6e5])\n",
    "            cs_bins = (bin_edges[1:]+bin_edges[:-1])/2 # bin centers from bin edges\n",
    "        #if i == 36 or i ==38 or i ==39 or i== 40: # this channel has weird wide peak with high count channel right at edge and wasn't being fit properly\n",
    "        #    fwhm, cs_centroid, err, amp = fit_gaussian_peak_linear_background_wide(cs_bins, cs_counts)\n",
    "        else:\n",
    "            fwhm, cs_centroid, err, amp = fit_gaussian_peak_linear_background(cs_bins, cs_counts)\n",
    "        \n",
    "        fwhm, am_centroid, err, amp = fit_gaussian_peak_linear_background(am_bins, am_counts)\n",
    "\n",
    "        calibration_channels = [am_centroid, cs_centroid]\n",
    "        calibration_energies = [am_energy, cs_energy]\n",
    "        coefficients = calculate_coefficients(calibration_channels, calibration_energies, 1)\n",
    "        if len(coefficients) == 2:\n",
    "            slope = coefficients[0]\n",
    "            intercept = coefficients[1]\n",
    "        else:\n",
    "            print \"check polynomial order\" \n",
    "\n",
    "        slopes.append(slope)\n",
    "        intercepts.append(intercept)\n",
    "        \n",
    "        energies = np.concatenate((nrgs_am, nrgs_cs))\n",
    "        energies_kev = calculate_energies(energies, slope, intercept)\n",
    "        #print(energies_kev)\n",
    "        \n",
    "        counts, bin_edges = np.histogram(energies_kev, bins=2048, range = [40, 700])\n",
    "        bins = (bin_edges[1:]+bin_edges[:-1])/2 # bin centers from bin edges\n",
    "        \n",
    "        fwhm, am_centroid, err,amp = fit_gaussian_peak_linear_background(bins[20:110], counts[20:110])\n",
    "        am_fwhm.append(fwhm)\n",
    "        #print(amp)\n",
    "        err = err# + 1/np.sqrt(amp)\n",
    "        am_err.append(err)\n",
    "\n",
    "        fwhm, cs_centroid, err,amp = fit_gaussian_peak_linear_background(bins[1850:2000], counts[1850:2000])\n",
    "        #fwhm, cs_centroid, err= fit_gaussian_with_plot(bins[1850:2000], counts[1850:2000])\n",
    "        cs_fwhm.append(fwhm)\n",
    "        #print(amp)\n",
    "        err = err #+ 1/np.sqrt(amp)\n",
    "        cs_err.append(err)\n",
    "        \n",
    "        #if fwhm > 4:\n",
    "        \n",
    "        #    plt.figure(4, figsize=(7, 5))\n",
    "        #    plt.cla()\n",
    "        #    plt.clf()\n",
    "        #    plt.xlim([650, 680])\n",
    "        #    plt.axvline(59.54)\n",
    "        #    plt.axvline(661.7)\n",
    "        #    plt.plot(bins, counts, 'k-')\n",
    "        #    plt.xlabel('Energy (keV)')\n",
    "        #    plt.ylabel('Counts')\n",
    "        #    plt.title(\"Calibrated Spectrum \" + str(i))\n",
    "        #    plt.legend(loc='upper right')\n",
    "        #    plt.tight_layout()\n",
    "       # plt.savefig(\"./figures/CalibratedSpectrum.pdf\")\n",
    "         #   plt.show()\n",
    "    \n",
    "f = open('../data/calibration.txt','w')\n",
    "for i in range(0, len(slopes), 1):\n",
    "    f.write(str(slopes[i]) + ' ' + str(intercepts[i]) + '\\n')\n",
    "    \n",
    "f.close()\n",
    "\n",
    "print('channels not calibrated (out of 152) = ', empty_channels)"
   ]
  },
  {
   "cell_type": "code",
   "execution_count": 12,
   "metadata": {},
   "outputs": [],
   "source": [
    "plt.cla()\n",
    "plt.clf()\n",
    "plt.errorbar(channels_fwhm, cs_fwhm, yerr=cs_err, fmt='o')\n",
    "#plt.plot(channels_fwhm, cs_fwhm, 'o')\n",
    "plt.title('Energy Resolution of CCI2')\n",
    "plt.ylabel('FWHM (keV) at 662 keV')\n",
    "plt.xlabel('channel')\n",
    "#plt.xlim([30,50])\n",
    "plt.savefig('../figures/energy_res.pdf')\n",
    "#plt.show()"
   ]
  },
  {
   "cell_type": "code",
   "execution_count": 10,
   "metadata": {},
   "outputs": [
    {
     "name": "stdout",
     "output_type": "stream",
     "text": [
      "('average fwhm for  (0.5 - 6 keV) channels: ', 2.37)\n",
      "('standard deviation: ', 0.39)\n"
     ]
    }
   ],
   "source": [
    "cs_fwhm_clean = []\n",
    "np.mean(cs_fwhm)\n",
    "for i in cs_fwhm:\n",
    "    if i > 0.5 and i < 6:\n",
    "        cs_fwhm_clean.append(i)\n",
    "print('average fwhm for  (0.5 - 6 keV) channels: ' , round(np.mean(cs_fwhm_clean),2))\n",
    "print('standard deviation: ' , round(np.std(cs_fwhm_clean),2))"
   ]
  },
  {
   "cell_type": "code",
   "execution_count": 11,
   "metadata": {},
   "outputs": [
    {
     "name": "stdout",
     "output_type": "stream",
     "text": [
      "Calibration Complete!\n",
      "check ../figures/energy_res.pdf for results\n"
     ]
    }
   ],
   "source": [
    "print('Calibration Complete!')\n",
    "print('check ../figures/energy_res.pdf for results')"
   ]
  },
  {
   "cell_type": "code",
   "execution_count": null,
   "metadata": {
    "collapsed": true
   },
   "outputs": [],
   "source": []
  },
  {
   "cell_type": "code",
   "execution_count": null,
   "metadata": {
    "collapsed": true
   },
   "outputs": [],
   "source": []
  },
  {
   "cell_type": "code",
   "execution_count": null,
   "metadata": {
    "collapsed": true
   },
   "outputs": [],
   "source": []
  },
  {
   "cell_type": "code",
   "execution_count": null,
   "metadata": {
    "collapsed": true
   },
   "outputs": [],
   "source": []
  },
  {
   "cell_type": "code",
   "execution_count": null,
   "metadata": {
    "collapsed": true
   },
   "outputs": [],
   "source": []
  },
  {
   "cell_type": "code",
   "execution_count": null,
   "metadata": {
    "collapsed": true
   },
   "outputs": [],
   "source": []
  },
  {
   "cell_type": "code",
   "execution_count": null,
   "metadata": {
    "collapsed": true
   },
   "outputs": [],
   "source": []
  },
  {
   "cell_type": "code",
   "execution_count": null,
   "metadata": {
    "collapsed": true
   },
   "outputs": [],
   "source": []
  },
  {
   "cell_type": "code",
   "execution_count": null,
   "metadata": {
    "collapsed": true
   },
   "outputs": [],
   "source": []
  },
  {
   "cell_type": "code",
   "execution_count": null,
   "metadata": {
    "collapsed": true
   },
   "outputs": [],
   "source": []
  },
  {
   "cell_type": "code",
   "execution_count": null,
   "metadata": {
    "collapsed": true
   },
   "outputs": [],
   "source": []
  },
  {
   "cell_type": "code",
   "execution_count": null,
   "metadata": {
    "collapsed": true
   },
   "outputs": [],
   "source": []
  },
  {
   "cell_type": "code",
   "execution_count": null,
   "metadata": {},
   "outputs": [],
   "source": []
  },
  {
   "cell_type": "code",
   "execution_count": null,
   "metadata": {
    "collapsed": true
   },
   "outputs": [],
   "source": []
  },
  {
   "cell_type": "code",
   "execution_count": null,
   "metadata": {
    "collapsed": true
   },
   "outputs": [],
   "source": []
  },
  {
   "cell_type": "code",
   "execution_count": null,
   "metadata": {
    "collapsed": true
   },
   "outputs": [],
   "source": []
  },
  {
   "cell_type": "code",
   "execution_count": null,
   "metadata": {
    "collapsed": true
   },
   "outputs": [],
   "source": []
  },
  {
   "cell_type": "code",
   "execution_count": null,
   "metadata": {
    "collapsed": true
   },
   "outputs": [],
   "source": []
  },
  {
   "cell_type": "code",
   "execution_count": null,
   "metadata": {
    "collapsed": true
   },
   "outputs": [],
   "source": []
  }
 ],
 "metadata": {
  "kernelspec": {
   "display_name": "Python 2",
   "language": "python",
   "name": "python2"
  },
  "language_info": {
   "codemirror_mode": {
    "name": "ipython",
    "version": 2
   },
   "file_extension": ".py",
   "mimetype": "text/x-python",
   "name": "python",
   "nbconvert_exporter": "python",
   "pygments_lexer": "ipython2",
   "version": "2.7.14"
  }
 },
 "nbformat": 4,
 "nbformat_minor": 2
}
