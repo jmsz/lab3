{
 "cells": [
  {
   "cell_type": "code",
   "execution_count": 1,
   "metadata": {
    "collapsed": true
   },
   "outputs": [],
   "source": [
    "# IMPORT DATA"
   ]
  },
  {
   "cell_type": "code",
   "execution_count": 2,
   "metadata": {
    "collapsed": true
   },
   "outputs": [],
   "source": [
    "# Import pytables\n",
    "from __future__ import division\n",
    "from math import floor as floor\n",
    "import tables\n",
    "import matplotlib.pyplot as plt\n",
    "import numpy as np\n",
    "\n",
    "# Open the data file in 'read' mode\n",
    "hf = tables.open_file(\"./data/DATA.h5\", \"r\")"
   ]
  },
  {
   "cell_type": "code",
   "execution_count": 3,
   "metadata": {},
   "outputs": [
    {
     "data": {
      "text/plain": [
       "array([(    1407298,  252179., 0, 1, 0, 0,    0),\n",
       "       (    1879315,  285296., 0, 1, 0, 0,    1),\n",
       "       (    2534565,  173755., 0, 1, 0, 0,    2), ...,\n",
       "       (10264988420,  275829., 0, 1, 0, 0, 2524),\n",
       "       (10274948916,  243781., 0, 1, 0, 0, 2525),\n",
       "       (10282569008,  249231., 0, 1, 0, 0, 2526)],\n",
       "      dtype=[('timestamp', '<u8'), ('ADC_value', '<f4'), ('detector', '<u2'), ('trigger', '<u2'), ('pileup', '<u2'), ('retrigger', '<u2'), ('rid', '<u4')])"
      ]
     },
     "execution_count": 3,
     "metadata": {},
     "output_type": "execute_result"
    }
   ],
   "source": [
    "event_data = hf.root.EventData.read()\n",
    "raw_data = hf.root.RawData.read()\n",
    "event_data"
   ]
  },
  {
   "cell_type": "code",
   "execution_count": 4,
   "metadata": {
    "collapsed": true
   },
   "outputs": [],
   "source": [
    "# BASELINE CORRECTION"
   ]
  },
  {
   "cell_type": "code",
   "execution_count": 5,
   "metadata": {
    "collapsed": true
   },
   "outputs": [],
   "source": [
    "def baseline_correction(data):\n",
    "    n_data = len(data)\n",
    "    baseline_correction_value = np.mean(data[0:99])\n",
    "    # print(baseline_correction_value)\n",
    "    # print(data[0:10])\n",
    "    bc_corrected_signal = []\n",
    "    for i in range(0, n_data, 1):\n",
    "        bc_corrected_signal.append(data[i] - baseline_correction_value )\n",
    "    return bc_corrected_signal"
   ]
  },
  {
   "cell_type": "code",
   "execution_count": 6,
   "metadata": {
    "collapsed": true
   },
   "outputs": [],
   "source": [
    "def test_baseline_correction():\n",
    "    data = []\n",
    "    for i in range(0, 100, 1):\n",
    "        data.append(100)\n",
    "    for i in range(0, 100, 1):\n",
    "        data.append(200)  \n",
    "    data = baseline_correction(data)\n",
    "    assert data[10] == 0\n",
    "    assert data[140] == 100\n",
    "    \n",
    "test_baseline_correction()"
   ]
  },
  {
   "cell_type": "code",
   "execution_count": 7,
   "metadata": {
    "collapsed": true
   },
   "outputs": [],
   "source": [
    "# POLE-ZERO CORRECTION"
   ]
  },
  {
   "cell_type": "code",
   "execution_count": 8,
   "metadata": {
    "collapsed": true
   },
   "outputs": [],
   "source": [
    "def pz_correction(data, tau):\n",
    "    pz_correction = [0]\n",
    "    pz_corrected = [0]\n",
    "\n",
    "    for i in range(1, n_data, 1):\n",
    "        #pz = np.sum(bc_corrected_signal[50:(i-1)])\n",
    "        #pz = np.sum(pz_corrected[i - 1] + data[i] - data[i - 1] + data[i - 1] / tau)\n",
    "        pz = np.sum(data[1:i-1])\n",
    "        pz_correction.append(pz)\n",
    "        pz_corrected.append(data[i] + pz / tau)\n",
    "     #   pz_corrected.append(data[i])\n",
    "        #Tr_prime.append(pz)\n",
    "        \n",
    "    return pz_corrected"
   ]
  },
  {
   "cell_type": "code",
   "execution_count": 9,
   "metadata": {
    "collapsed": true
   },
   "outputs": [],
   "source": [
    "# TRAPEZOIDAL FILTER"
   ]
  },
  {
   "cell_type": "code",
   "execution_count": 10,
   "metadata": {
    "collapsed": true
   },
   "outputs": [],
   "source": [
    "def trapezoidal_filter(data, gap_time, peaking_time):\n",
    "\n",
    "    filtered_signal = [0]*4096\n",
    "    #print(filtered_signal[0:10])\n",
    "    for j in range(k + 1, k + l, 1):\n",
    "        sig = np.sum(data[j - k: j]) \n",
    "        filtered_signal[j] = sig\n",
    "    for j in range(k + l + 1, n_data, 1):\n",
    "        sig = np.sum(data[j - k: j]) - np.sum(data[j - l - k: j - l])\n",
    "       # if j%1000 == 0:\n",
    "       #     plt.plot(data)\n",
    "       #     plt.plot(np.linspace(j-k, j, k), data[j - k: j], 'ob')\n",
    "       #     plt.plot(np.linspace(j- l - k, j - l, k), data[j - l - k: j - l], 'or')\n",
    "       #     plt.show()\n",
    "        filtered_signal[j] = sig\n",
    "    \n",
    "    #print(filtered_signal[0:10])\n",
    "    #print(filtered_signal[-10:-1])\n",
    "    return filtered_signal\n"
   ]
  },
  {
   "cell_type": "code",
   "execution_count": 11,
   "metadata": {},
   "outputs": [],
   "source": [
    "#def trapezoidal_filter(data, gap_time, peaking_time):\n",
    "    \n",
    "    "
   ]
  },
  {
   "cell_type": "code",
   "execution_count": 12,
   "metadata": {
    "collapsed": true
   },
   "outputs": [],
   "source": [
    "def get_energy_value(data):\n",
    "    energy = max(data)\n",
    "    return energy"
   ]
  },
  {
   "cell_type": "code",
   "execution_count": null,
   "metadata": {},
   "outputs": [
    {
     "data": {
      "text/plain": [
       "array([  0.00000000e+00,   1.00024420e+00,   2.00048840e+00, ...,\n",
       "         4.09399951e+03,   4.09499976e+03,   4.09600000e+03])"
      ]
     },
     "execution_count": 13,
     "metadata": {},
     "output_type": "execute_result"
    }
   ],
   "source": [
    "def get_time_values(length_of_data, sampling_time):\n",
    "    time_values = np.linspace(0, length_of_data * sampling_time, length_of_data)\n",
    "    return time_values\n",
    "n_data = 4096\n",
    "x_values = np.linspace(0, n_data * 1, n_data)\n",
    "x_values"
   ]
  },
  {
   "cell_type": "code",
   "execution_count": null,
   "metadata": {},
   "outputs": [
    {
     "name": "stdout",
     "output_type": "stream",
     "text": [
      "31571.5039062\n",
      "a\n",
      "[  375.68088836  6057.51421208]\n",
      "b\n",
      "[[  2.17554767e-02  -1.23933298e+00]\n",
      " [ -1.23933298e+00   1.01995214e+02]]\n"
     ]
    },
    {
     "data": {
      "image/png": "[encoded data removed]",
      "text/plain": [
       "<matplotlib.figure.Figure at 0x10ab31c10>"
      ]
     },
     "metadata": {},
     "output_type": "display_data"
    }
   ],
   "source": [
    "import scipy.optimize as opt\n",
    "\n",
    "def exp_func(x,a,b):\n",
    "    return a*np.exp(-x/b)\n",
    "def fit_exponential(data):\n",
    "    xdata = np.arange(len(data))\n",
    "    ydata = np.array(data)\n",
    "    fit,fit2 = opt.curve_fit(exp_func,xdata,ydata)\n",
    "    print('a')\n",
    "    print(fit)\n",
    "    print('b')\n",
    "    print(fit2)\n",
    "    return int(np.round(fit[1]))\n",
    "\n",
    "sampling_time = 10.0\n",
    "k = 100 # peaking time\n",
    "l = 100 # gap\n",
    "tau = 6057.51421208 #4467 #100 #emily gets 600k?\n",
    "raw_signal = raw_data[2,:]\n",
    "print(np.mean(raw_signal))\n",
    "signal = baseline_correction(raw_signal)\n",
    "#fittfunc = fit_exponential(signal[1100:1200])\n",
    "fit_exponential(signal[1200:4000])\n",
    "\n",
    "fitfunc = []\n",
    "for i in range(1100, 4096, 1):\n",
    "    fitfunc.append(460.68088836*np.exp(-i/6057.51421208))\n",
    "    #print(fitfunc)\n",
    "\n",
    "plt.plot(np.linspace(1100,1200,100), signal[1100:1200])\n",
    "plt.plot(np.linspace(0,4096,4096), signal)\n",
    "plt.plot(np.linspace(1100, 4096, 4096-1100), fitfunc, 'o')\n",
    "plt.show()"
   ]
  },
  {
   "cell_type": "code",
   "execution_count": null,
   "metadata": {
    "collapsed": true
   },
   "outputs": [],
   "source": [
    "#pz_correction = [0]\n",
    "#Tr_prime = [0]\n",
    "\n",
    "#for i in range(1, n_data, 1):\n",
    "    #pz = np.sum(bc_corrected_signal[50:(i-1)])\n",
    "#    pz = 0\n",
    "#    for k in range(1, i, 1):\n",
    "#        pz += np.sum(bc_corrected_signal[i] - bc_corrected_signal[i - 1] + bc_corrected_signal[i - 1] / tau)\n",
    "   \n",
    "#    pz_correction.append(pz)\n",
    "    #Tr_prime.append(bc_corrected_signal[i] + pz / tau)\n",
    "                                     \n",
    "#print(len(pz_correction))\n",
    "#print(Tr_prime[0:10])"
   ]
  },
  {
   "cell_type": "code",
   "execution_count": null,
   "metadata": {},
   "outputs": [
    {
     "name": "stdout",
     "output_type": "stream",
     "text": [
      "31571.5039062\n",
      "=***\n",
      "230.412997159\n",
      "=**\n",
      "294.98815143\n"
     ]
    },
    {
     "data": {
      "image/png": "[encoded data removed]",
      "text/plain": [
       "<matplotlib.figure.Figure at 0x10aa84bd0>"
      ]
     },
     "metadata": {},
     "output_type": "display_data"
    },
    {
     "name": "stdout",
     "output_type": "stream",
     "text": [
      "=\n",
      "475.73023476\n"
     ]
    },
    {
     "data": {
      "image/png": "[encoded data removed]",
      "text/plain": [
       "<matplotlib.figure.Figure at 0x10eb78110>"
      ]
     },
     "metadata": {},
     "output_type": "display_data"
    }
   ],
   "source": [
    "sampling_time = 10.0\n",
    "k = 100 # peaking time\n",
    "l = 50 # gap\n",
    "tau = 6057.51421208#4467 #100\n",
    "tau = 6000\n",
    "raw_signal = raw_data[2,:]\n",
    "print(np.mean(raw_signal))\n",
    "signal = baseline_correction(raw_signal)\n",
    "plt.plot(signal, label='bl')\n",
    "print(\"=***\")\n",
    "print(np.mean(signal))\n",
    "signal = pz_correction(signal, tau)\n",
    "print(\"=**\")\n",
    "print(np.mean(signal))\n",
    "plt.plot(signal, 'o',label='pz')\n",
    "plt.legend()\n",
    "plt.show()\n",
    "signal = trapezoidal_filter(signal, l, k)\n",
    "print(\"=\")\n",
    "print(np.mean(signal))\n",
    "plt.cla()\n",
    "plt.clf()\n",
    "plt.plot(x_values, signal)\n",
    "plt.show()"
   ]
  },
  {
   "cell_type": "code",
   "execution_count": null,
   "metadata": {
    "collapsed": true
   },
   "outputs": [],
   "source": []
  },
  {
   "cell_type": "code",
   "execution_count": null,
   "metadata": {},
   "outputs": [
    {
     "name": "stdout",
     "output_type": "stream",
     "text": [
      "19736.1317424\n"
     ]
    }
   ],
   "source": [
    "energy = get_energy_value(signal)\n",
    "print(energy)"
   ]
  },
  {
   "cell_type": "code",
   "execution_count": null,
   "metadata": {},
   "outputs": [
    {
     "data": {
      "image/png": "[encoded data removed]",
      "text/plain": [
       "<matplotlib.figure.Figure at 0x10ab31a50>"
      ]
     },
     "metadata": {},
     "output_type": "display_data"
    }
   ],
   "source": [
    "plt.plot(x_values[970:1400], signal[970:1400], label ='trap')\n",
    "plt.plot(1060, energy, 's')\n",
    "plt.show()"
   ]
  },
  {
   "cell_type": "code",
   "execution_count": null,
   "metadata": {
    "collapsed": true
   },
   "outputs": [],
   "source": [
    "def filter_and_get_energy(data, peak, gap):\n",
    "    signal = data\n",
    "    #print(np.mean(signal))\n",
    "    signal = baseline_correction(signal)\n",
    "    #print(\"=***\")\n",
    "    #print(np.mean(signal))\n",
    "    t = 100\n",
    "    signal = pz_correction(signal, t)\n",
    "    #plt.plot(signal)\n",
    "    #print(\"=**\")\n",
    "    #print(np.mean(signal))\n",
    "    #plt.show()\n",
    "    signal = trapezoidal_filter(signal, gap, peak)\n",
    "    #print(\"=\")\n",
    "    #print(np.mean(signal))\n",
    "    #plt.cla()\n",
    "    #plt.clf()\n",
    "    #plt.plot(x_values, signal)\n",
    "    \n",
    "    #plt.plot(x_values[900:1100], signal[900:1100], label ='trap')\n",
    "    #plt.plot(1060, signal[1060], 'o')\n",
    "    #plt.show()\n",
    "    \n",
    "    energy_value = get_energy_value(signal)\n",
    "    #print(energy_value)\n",
    "    return energy_value\n",
    "    "
   ]
  },
  {
   "cell_type": "code",
   "execution_count": null,
   "metadata": {
    "collapsed": true
   },
   "outputs": [],
   "source": [
    "nrgs = []\n",
    "number_of_events = len(raw_data)\n",
    "number_of_events = 500\n",
    "k = 100 # peaking time\n",
    "l = 50 # gap\n",
    "R = 100 * 10**6\n",
    "C = 10 * 10**(-12)\n",
    "tau = 6057.51421208"
   ]
  },
  {
   "cell_type": "code",
   "execution_count": null,
   "metadata": {},
   "outputs": [],
   "source": [
    "for i in range(0, number_of_events, 1): \n",
    "   nrg = filter_and_get_energy(raw_data[i,:], k, l)\n",
    "   #print(raw_data[i,1060:1070])\n",
    "   #print(nrg)\n",
    "   nrgs.append(round(nrg, 7))"
   ]
  },
  {
   "cell_type": "code",
   "execution_count": null,
   "metadata": {},
   "outputs": [
    {
     "name": "stdout",
     "output_type": "stream",
     "text": [
      "2179691.3498\n",
      "29311.4347475\n"
     ]
    }
   ],
   "source": [
    "#print(nrgs)\n",
    "print(max(nrgs))\n",
    "print(min(nrgs))"
   ]
  },
  {
   "cell_type": "code",
   "execution_count": null,
   "metadata": {},
   "outputs": [
    {
     "data": {
      "text/plain": [
       "(500,)"
      ]
     },
     "execution_count": 23,
     "metadata": {},
     "output_type": "execute_result"
    }
   ],
   "source": [
    "np.shape(nrgs)"
   ]
  },
  {
   "cell_type": "code",
   "execution_count": null,
   "metadata": {},
   "outputs": [
    {
     "data": {
      "image/png": "[encoded data removed]",
      "text/plain": [
       "<matplotlib.figure.Figure at 0x10ec5de50>"
      ]
     },
     "metadata": {},
     "output_type": "display_data"
    }
   ],
   "source": [
    "plt.hist(nrgs, 500)\n",
    "plt.xlim([0, 200000])\n",
    "plt.show()"
   ]
  },
  {
   "cell_type": "code",
   "execution_count": null,
   "metadata": {
    "collapsed": true
   },
   "outputs": [],
   "source": []
  },
  {
   "cell_type": "code",
   "execution_count": null,
   "metadata": {
    "collapsed": true
   },
   "outputs": [],
   "source": [
    "\n",
    "    "
   ]
  },
  {
   "cell_type": "code",
   "execution_count": null,
   "metadata": {
    "collapsed": true
   },
   "outputs": [],
   "source": []
  },
  {
   "cell_type": "code",
   "execution_count": null,
   "metadata": {
    "collapsed": true
   },
   "outputs": [],
   "source": []
  },
  {
   "cell_type": "code",
   "execution_count": null,
   "metadata": {
    "collapsed": true
   },
   "outputs": [],
   "source": []
  }
 ],
 "metadata": {
  "kernelspec": {
   "display_name": "Python 2",
   "language": "python",
   "name": "python2"
  },
  "language_info": {
   "codemirror_mode": {
    "name": "ipython",
    "version": 2
   },
   "file_extension": ".py",
   "mimetype": "text/x-python",
   "name": "python",
   "nbconvert_exporter": "python",
   "pygments_lexer": "ipython2",
   "version": "2.7.14"
  }
 },
 "nbformat": 4,
 "nbformat_minor": 2
}
