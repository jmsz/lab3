{
 "cells": [
  {
   "cell_type": "code",
   "execution_count": 5,
   "metadata": {
    "collapsed": true
   },
   "outputs": [],
   "source": [
    "### fix how M values is taken in\n",
    "### Switch to Jupyter Notebook\n",
    "### Import Data\n",
    "### Make a special data file with only 10 events or so\n",
    "### Plot the raw signals from those 10 events\n",
    "### Plot resulting Trapezoids\n",
    "# figure out calibration\n",
    "# Plot the full, calibrated energy spectra for Co, Cs, Am (to check for re-takes)\n",
    "# Fit peaks and get FWHM Values\n",
    "# Plot FWHM vs gap time\n",
    "# Plot FWHM vs peak time\n",
    "# Set optimal peak and gap times and save spectrum\n",
    "# Make electronic noise plot\n",
    "# calculate FANO factor\n",
    "# Write text\n",
    "# Write TEST functions\n",
    "# BASELINE CORREXTION #np.mean(data['Rawdata']) np apply along axis 0 = comuln, 1 = row\n",
    "# REDO DATA Cs = low stats, Co maybe okay, Am/ Co peaks?/ pulser?"
   ]
  },
  {
   "cell_type": "code",
   "execution_count": 60,
   "metadata": {
    "collapsed": true
   },
   "outputs": [],
   "source": [
    "from __future__ import division, print_function\n",
    "from numba import jit\n",
    "from math import floor\n",
    "import matplotlib.pyplot as plt\n",
    "import numpy as np\n",
    "import lmfit\n",
    "import tables\n",
    "import sys\n",
    "import csv"
   ]
  },
  {
   "cell_type": "code",
   "execution_count": 253,
   "metadata": {
    "collapsed": true
   },
   "outputs": [],
   "source": [
    "#BASELINE CORREXTION #np.mean(data['Rawdata']) np apply along axis 0 = comuln, 1 = row, reshape?\n",
    "#def fast_baseline_correction(data):\n",
    "\n",
    "@jit(parallel = True)\n",
    "def baseline_correction(data):\n",
    "    n_data = len(data)\n",
    "    baseline_correction_value = np.mean(data[0:799])\n",
    "    for i in range(0, n_data, 1):\n",
    "        data[i] = data[i] - baseline_correction_value\n",
    "    return data\n",
    "\n",
    "def test_baseline_correction():\n",
    "    data = []\n",
    "    for i in range(0, 800, 1): # TODO NOT WORKING\n",
    "        data.append(100)\n",
    "    for i in range(800, 810, 1):\n",
    "        data.append(500)\n",
    "    data = baseline_correction(data)\n",
    "    assert data[10] == 0\n",
    "\n",
    "def pz_correction(data, tau):\n",
    "    pz_corrected = []\n",
    "    pz_correction = []\n",
    "    for i in range(0, n_data, 1):\n",
    "        pz = np.sum(data[1:i-1])\n",
    "        pz_correction.append(pz)\n",
    "        pz_corrected.append(data[i] + pz / tau)\n",
    "    return pz_corrected\n",
    "\n",
    "@jit(parallel = True)\n",
    "def trapezoidal_filter(signal, m, k, M):\n",
    "    sum_3 = np.zeros(len(signal), dtype=np.float32)\n",
    "    sum_4 = np.zeros(len(signal), dtype=np.float32)\n",
    "    acc_1 = np.zeros(len(signal), dtype=np.float32)\n",
    "    acc_2 = np.zeros(len(signal), dtype=np.float32)\n",
    "\n",
    "    for i in range(2 * k + m, len(signal)):  # following block diagram in Jordanov paper\n",
    "        sum1 = signal[i] - signal[i - k]\n",
    "        sum2 = signal[i - k - m - k] - signal[i - k - m]\n",
    "        sum_3[i] = sum1 + sum2\n",
    "        acc_1[i] = sum_3[i] + acc_1[i - 1] # S(n-1) + sum3(n)\n",
    "        sum_4[i] = acc_1[i] + M * sum_3[i] #PZ correction?? same?\n",
    "        acc_2[i] = sum_4[i] + acc_2[i-1]\n",
    "    return acc_2\n",
    "\n",
    "@jit(parallel = True)\n",
    "def get_energy_value(data): # TODO\n",
    "    energy = max(data)\n",
    "    return energy\n",
    "\n",
    "@jit(parallel = True)\n",
    "def trapezoidal_filter_energy(signal, m, k, M):\n",
    "    sum_3 = np.zeros(len(signal), dtype=np.float32)\n",
    "    sum_4 = np.zeros(len(signal), dtype=np.float32)\n",
    "    acc_1 = np.zeros(len(signal), dtype=np.float32)\n",
    "    acc_2 = np.zeros(len(signal), dtype=np.float32)\n",
    "\n",
    "    for i in range(2 * k + m, len(signal)):  # following block diagram in Jordanov paper\n",
    "        sum1 = signal[i] - signal[i - k]\n",
    "        sum2 = signal[i - k - m - k] - signal[i - k - m]\n",
    "        sum_3[i] = sum1 + sum2\n",
    "        acc_1[i] = sum_3[i] + acc_1[i - 1] # S(n-1) + sum3(n)\n",
    "        sum_4[i] = acc_1[i] + M * sum_3[i] #PZ correction?? same?\n",
    "        acc_2[i] = sum_4[i] + acc_2[i-1]\n",
    "    nrg = round(get_energy_value(acc_2), 7)\n",
    "    return nrg\n",
    "\n",
    "def get_time_values(length_of_data, sampling_time):\n",
    "    time_values = np.linspace(0, length_of_data * sampling_time, length_of_data)\n",
    "    return time_values\n",
    "\n",
    "def FitExponential(x, y):\n",
    "    exp = lmfit.models.ExponentialModel(prefix='exp_')\n",
    "    pars = exp.guess(y, x=x)\n",
    "    mod = exp\n",
    "    init = mod.eval(pars, x=x)\n",
    "    out = mod.fit(y, pars, x=x)\n",
    "    return out.params\n",
    "\n",
    "def FitExponentialWithPlot(x, y):\n",
    "    exp = lmfit.models.ExponentialModel(prefix='exp_')\n",
    "    pars = exp.guess(y, x=x)\n",
    "    mod = exp\n",
    "    init = mod.eval(pars, x=x)\n",
    "    out = mod.fit(y, pars, x=x)\n",
    "    print(out.fit_report())\n",
    "    plt.figure()\n",
    "    plt.plot(x, y, 'o')\n",
    "    plt.plot(x, out.best_fit, 'r--')\n",
    "    plt.show()\n",
    "    return out.params\n",
    "\n",
    "def filter_and_get_energy(signal, peak, gap, M):\n",
    "    signal = baseline_correction(signal)\n",
    "    energy_value = trapezoidal_filter_energy(signal, gap, peak, M)\n",
    "    return energy_value\n",
    "\n",
    "def FitGaussianWithPlot(x, y):\n",
    "    mod = lmfit.models.GaussianModel()\n",
    "    pars = mod.guess(y, x=x)\n",
    "    out = mod.fit(y, pars, x=x)\n",
    "    print(out.fit_report(min_correl=0.25))\n",
    "    plt.plot(x, y, 'bo')\n",
    "    plt.plot(x, out.init_fit, 'k--')\n",
    "    plt.plot(x, out.best_fit, 'r-')\n",
    "    plt.show()\n",
    "    fwhm = out.params['fwhm'].value\n",
    "    center = out.params['center'].value\n",
    "    return fwhm, center\n",
    "\n",
    "def FitGaussian(x,y):\n",
    "    mod = lmfit.models.GaussianModel()\n",
    "    pars = mod.guess(y, x=x)\n",
    "    out  = mod.fit(y, pars, x=x)\n",
    "    fwhm = out.params['fwhm'].value\n",
    "    center = out.params['center'].value\n",
    "    return fwhm, center\n",
    "    \n",
    "def ImportData(filename):\n",
    "    # open file\n",
    "    hf = tables.open_file(filename, \"r\")\n",
    "    event_data = hf.root.EventData.read()\n",
    "    raw_data = hf.root.RawData.read()\n",
    "    hf.close()\n",
    "\n",
    "    # mask retriggered events\n",
    "    mask = (event_data['retrigger'] == 1)\n",
    "    raw_data[mask] = 0\n",
    "    \n",
    "    return raw_data\n",
    "\n",
    "def GetBinCentersFromEdges(edges):\n",
    "    edges = np.array(edges)\n",
    "    centers = (edges[:-1] + edges[1:]) / 2\n",
    "    return centers\n",
    "\n",
    "def find_M_value(data, num):\n",
    "    tau_values = []\n",
    "    for i in range(0, num, 1):\n",
    "        signal = raw_data[i,:]\n",
    "        signal = baseline_correction(signal)\n",
    "        x = np.asarray(range(np.argmax(signal), n_data, 1))\n",
    "        y = np.asarray(signal[np.argmax(signal):n_data])\n",
    "        out = FitExponential(x, y)\n",
    "        tau_values.append(out['exp_decay'].value)\n",
    "    tau = np.mean(tau_values)\n",
    "    return tau"
   ]
  },
  {
   "cell_type": "code",
   "execution_count": 254,
   "metadata": {},
   "outputs": [],
   "source": [
    "def MakeTenEventFile():\n",
    "    f = open('tenevents.txt','w')\n",
    "    for i in range(10):\n",
    "        data = raw_data[i,:]\n",
    "        for j in data:\n",
    "            f.write(str(j) + ', ') \n",
    "    f.close() \n",
    "    \n",
    "def ReadTenEventFile():\n",
    "    events = np.zeros((10, 4096))\n",
    "    with open('tenevents.txt') as csv_file:\n",
    "        csv_reader = csv.reader(csv_file, delimiter=',')\n",
    "        i = 0\n",
    "        for row in csv_reader:\n",
    "            sample_count = 0\n",
    "            for j in range(0, 4096, 1):\n",
    "                #print(sample_count, float(row[j]))\n",
    "                events[i][sample_count] = float(row[j])\n",
    "                sample_count += 1\n",
    "            i += 1\n",
    "    return events"
   ]
  },
  {
   "cell_type": "code",
   "execution_count": null,
   "metadata": {},
   "outputs": [],
   "source": [
    "tenevents = ReadTenEventFile()\n",
    "print(tenevents)\n",
    "for event in tenevents[0:5]:\n",
    "    event = baseline_correction(event)\n",
    "    plt.plot(event)\n",
    "plt.xlim([950, 1020])\n",
    "plt.title('Raw Pulses')\n",
    "plt.ylable('ADC value')\n",
    "plt.xlable('sample')\n",
    "plt.savefig('tenevents_rawdata.png')\n",
    "plt.show()\n",
    "\n",
    "peaking_time = 100 \n",
    "gap = 100 \n",
    "M = 4400\n",
    "for event in tenevents[0:5]:\n",
    "    filtered_signal = trapezoidal_filter(event, gap, peaking_time, M)\n",
    "    plt.figure(41)\n",
    "    plt.plot(x_values, filtered_signal)\n",
    "plt.xlim([950, 1325])\n",
    "plt.title('Filtered Pulses')\n",
    "plt.ylable('ADC value')\n",
    "plt.xlable('sample')\n",
    "plt.savefig('tenevents_filtered.png')\n",
    "plt.show()"
   ]
  },
  {
   "cell_type": "code",
   "execution_count": null,
   "metadata": {
    "collapsed": true
   },
   "outputs": [],
   "source": [
    "# filename = 'data/co60.h5'\n",
    "filename = 'data/DATA_co60_2.h5'\n",
    "raw_data = ImportData(filename)"
   ]
  },
  {
   "cell_type": "code",
   "execution_count": 209,
   "metadata": {},
   "outputs": [],
   "source": [
    "sampling_time = 10.0\n",
    "n_data = 4096\n",
    "x_values = np.linspace(0, n_data, n_data)"
   ]
  },
  {
   "cell_type": "code",
   "execution_count": 255,
   "metadata": {},
   "outputs": [
    {
     "name": "stdout",
     "output_type": "stream",
     "text": [
      "4320.45575167\n"
     ]
    }
   ],
   "source": [
    "M = find_M_value(raw_data, 10)\n",
    "print(M)\n",
    "#M = 4400"
   ]
  },
  {
   "cell_type": "code",
   "execution_count": 256,
   "metadata": {},
   "outputs": [
    {
     "data": {
      "image/png": "[encoded data removed]",
      "text/plain": [
       "<matplotlib.figure.Figure at 0x132af8510>"
      ]
     },
     "metadata": {},
     "output_type": "display_data"
    },
    {
     "data": {
      "image/png": "[encoded data removed]",
      "text/plain": [
       "<matplotlib.figure.Figure at 0x132eae310>"
      ]
     },
     "metadata": {},
     "output_type": "display_data"
    }
   ],
   "source": [
    "raw_signal = raw_data[2,:]\n",
    "signal = baseline_correction(raw_signal)\n",
    "plt.plot(signal)\n",
    "plt.show()\n",
    "peaking_time = 100 \n",
    "gap = 100 \n",
    "#M = 4400\n",
    "filtered_signal = trapezoidal_filter(signal, gap, peaking_time, M)\n",
    "plt.figure(41)\n",
    "plt.cla()\n",
    "plt.clf()\n",
    "plt.plot(x_values, filtered_signal)\n",
    "plt.show()"
   ]
  },
  {
   "cell_type": "code",
   "execution_count": 257,
   "metadata": {},
   "outputs": [
    {
     "name": "stdout",
     "output_type": "stream",
     "text": [
      "2.28963e+08\n"
     ]
    }
   ],
   "source": [
    "energy = get_energy_value(filtered_signal)\n",
    "print(energy)"
   ]
  },
  {
   "cell_type": "code",
   "execution_count": 258,
   "metadata": {},
   "outputs": [],
   "source": [
    "nrgs = []\n",
    "\n",
    "number_of_events = len(raw_data)\n",
    "assert number_of_events <= len(raw_data)\n",
    "M = find_M_value(raw_data, 10)\n",
    "\n",
    "k = 100 # peaking time\n",
    "l = 100 # gap\n",
    "\n",
    "for i in range(0, number_of_events, 1):\n",
    "    signal = raw_data[i,:]\n",
    "    nrg = filter_and_get_energy(signal, l, k, M)\n",
    "    nrgs.append(round(nrg, 7))"
   ]
  },
  {
   "cell_type": "code",
   "execution_count": 263,
   "metadata": {},
   "outputs": [
    {
     "data": {
      "image/png": "[encoded data removed]",
      "text/plain": [
       "<matplotlib.figure.Figure at 0x132b29590>"
      ]
     },
     "metadata": {},
     "output_type": "display_data"
    },
    {
     "data": {
      "image/png": "[encoded data removed]",
      "text/plain": [
       "<matplotlib.figure.Figure at 0x132bd80d0>"
      ]
     },
     "metadata": {},
     "output_type": "display_data"
    }
   ],
   "source": [
    "nbins = 2048\n",
    "counts, bin_edges = np.histogram(nrgs, bins=2048, range=[1.75e8, 2.9e8]) #range=[2.3e8, 2.9e8] WORKS\n",
    "bins = (bin_edges[1:]+bin_edges[:-1])/2 # bin centers from bin edges\n",
    "plt.figure()\n",
    "plt.plot(bins, counts)\n",
    "plt.title('Co-60 Spectrum')\n",
    "plt.ylabel('counts')\n",
    "plt.xlabel('channel')\n",
    "plt.savefig('./co60.pdf')\n",
    "plt.show()\n",
    "\n",
    "nbins = 2048\n",
    "counts, bin_edges = np.histogram(nrgs, bins=2048, range=[2.3e8, 2.8e8]) # WORKS\n",
    "bins = (bin_edges[1:]+bin_edges[:-1])/2 # bin centers from bin edges\n",
    "plt.figure()\n",
    "plt.plot(bins, counts)\n",
    "plt.title('Co-60 Spectrum')\n",
    "plt.ylabel('counts')\n",
    "plt.xlabel('channel')\n",
    "plt.savefig('./co60.pdf')\n",
    "plt.show()\n"
   ]
  },
  {
   "cell_type": "code",
   "execution_count": 260,
   "metadata": {
    "collapsed": true
   },
   "outputs": [],
   "source": [
    "def findpeaks(data_x, data_y, low_index, high_index):\n",
    "    cut_data_y = data_y[low_index:high_index]\n",
    "    for i in range (low_index,high_index):\n",
    "        if data_y[i] == max(cut_data_y):\n",
    "            centerindex =  data_x[i]\n",
    "            minindex=low_index\n",
    "            maxindex=high_index\n",
    "            amplitude = max(cut_data_y)\n",
    "    ROIrange = [minindex, maxindex]\n",
    "    return centerindex, amplitude, minindex, maxindex\n",
    "\n",
    "def calculate_coefficients(calibration_channels, calibration_energies, polynomial_order):\n",
    "    return np.polyfit(calibration_channels, calibration_energies, polynomial_order)\n",
    "\n",
    "def calculate_energies(x, m, b):\n",
    "    energies = m * x + b\n",
    "    return energies"
   ]
  },
  {
   "cell_type": "code",
   "execution_count": 284,
   "metadata": {
    "collapsed": true
   },
   "outputs": [],
   "source": [
    "def get_energy_resolution_co_1173(x, y):\n",
    "    ROI_low =0\n",
    "    ROI_high = int(2048 / 2)\n",
    "    fwhm, center = FitGaussian(x[ROI_low:ROI_high], y[ROI_low:ROI_high])\n",
    "\n",
    "    return fwhm, center\n",
    "\n",
    "def get_energy_resolution_co_1332(x, y):\n",
    "    #i = int(np.argmax(y))\n",
    "    #ROI_low = int(i + 100)\n",
    "    ROI_low = int(2048 / 2)\n",
    "    ROI_high =  2048\n",
    "    fwhm, center =  FitGaussian(x[ROI_low:ROI_high], y[ROI_low:ROI_high])\n",
    "\n",
    "    return fwhm, center\n",
    "\n",
    "def calibrate_co_spectrum(nrgs):# Get first calibration point, ROI HARDCODED\n",
    "    nbins = 2048\n",
    "    counts, bin_edges = np.histogram(nrgs, bins=2048, range=[2.3e8, 2.8e8]) # WORKS\n",
    "    bins = (bin_edges[1:]+bin_edges[:-1])/2 # bin centers from bin edges\n",
    "    x = bins\n",
    "    y = counts\n",
    "\n",
    "    fwhm1, center1 = get_energy_resolution_co_1173(x, y)\n",
    "    fwhm2, center2 = get_energy_resolution_co_1332(x, y)\n",
    "    \n",
    "    # from above fits:\n",
    "    Co_energies = [1173.2, 1332.5] # MeV\n",
    "    Co_indices = [center1, center2]\n",
    "    print (Co_indices)\n",
    "    \n",
    "    f = calculate_coefficients(Co_indices, Co_energies, 1)\n",
    "    print(f)\n",
    "    m = f[0]\n",
    "    b = f[1]\n",
    "    energies = calculate_energies(x, m, b)\n",
    "    \n",
    "    return energies\n"
   ]
  },
  {
   "cell_type": "code",
   "execution_count": 272,
   "metadata": {},
   "outputs": [
    {
     "name": "stdout",
     "output_type": "stream",
     "text": [
      "[239349385.25251204, 271915008.6747]\n",
      "[  4.89166131e-06   2.38387355e+00]\n"
     ]
    }
   ],
   "source": [
    "co_energies = calibrate_co_spectrum(nrgs)"
   ]
  },
  {
   "cell_type": "code",
   "execution_count": 273,
   "metadata": {},
   "outputs": [
    {
     "data": {
      "image/png": "[encoded data removed]",
      "text/plain": [
       "<matplotlib.figure.Figure at 0x1320f3750>"
      ]
     },
     "metadata": {},
     "output_type": "display_data"
    }
   ],
   "source": [
    "plt.plot(co_energies, counts)\n",
    "plt.show()"
   ]
  },
  {
   "cell_type": "code",
   "execution_count": null,
   "metadata": {
    "collapsed": true
   },
   "outputs": [],
   "source": []
  },
  {
   "cell_type": "code",
   "execution_count": 276,
   "metadata": {},
   "outputs": [],
   "source": [
    "energy_values = []\n",
    "fwhm_values = []\n",
    "\n",
    "fwhm, center = get_energy_resolution_co_1332(co_energies, counts)\n",
    "fwhm_values.append(fwhm)\n",
    "energy_values.append(center)"
   ]
  },
  {
   "cell_type": "code",
   "execution_count": 277,
   "metadata": {},
   "outputs": [
    {
     "data": {
      "image/png": "[encoded data removed]",
      "text/plain": [
       "<matplotlib.figure.Figure at 0x132ffc350>"
      ]
     },
     "metadata": {},
     "output_type": "display_data"
    }
   ],
   "source": [
    "plt.plot(energy_values, fwhm_values, 'o')\n",
    "plt.show()"
   ]
  },
  {
   "cell_type": "code",
   "execution_count": 286,
   "metadata": {
    "collapsed": true
   },
   "outputs": [],
   "source": [
    "import time"
   ]
  },
  {
   "cell_type": "code",
   "execution_count": null,
   "metadata": {},
   "outputs": [
    {
     "name": "stdout",
     "output_type": "stream",
     "text": [
      "4320.45575167\n",
      "0.140771865845\n",
      "1.0\n",
      "24.7807598114\n",
      "24.7858099937\n",
      "24.8110129833\n",
      "end\n",
      "4.63157894737\n",
      "59.9298028946\n",
      "59.9585108757\n",
      "60.0230019093\n",
      "end\n",
      "8.26315789474\n",
      "84.4736399651\n",
      "84.4808819294\n",
      "84.5137629509\n",
      "end\n",
      "11.8947368421\n",
      "108.213186026\n",
      "108.217962027\n",
      "108.262770891\n",
      "end\n",
      "15.5263157895\n",
      "132.224768877\n",
      "132.240687847\n",
      "132.288147926\n",
      "end\n",
      "19.1578947368\n",
      "156.70431304\n",
      "156.710567951\n",
      "156.750286818\n",
      "end\n",
      "22.7894736842\n",
      "178.78034091\n",
      "178.794382811\n",
      "178.825796843\n",
      "end\n",
      "26.4210526316\n",
      "201.399240971\n",
      "201.402660847\n",
      "201.421849966\n",
      "end\n",
      "30.0526315789\n",
      "225.718638897\n",
      "225.733479977\n",
      "225.771510839\n",
      "end\n",
      "33.6842105263\n",
      "248.479835033\n",
      "248.494207859\n",
      "248.551236868\n",
      "end\n",
      "37.3157894737\n"
     ]
    }
   ],
   "source": [
    "#k_values = np.linspace(500, 10000, 2) # steps in 100 ns from 1ns to 10us\n",
    "start = time.time()\n",
    "m_values = np.linspace(2000, 100000, 2) # steps in 100 ns from 1ns to 10us\n",
    "M = find_M_value(raw_data, 10)\n",
    "print(M)\n",
    "#M = 4400\n",
    "end1 = time.time()\n",
    "print(end1 - start)\n",
    "k_values = [100]\n",
    "m_values = np.linspace(1, 70, 20)\n",
    "fwhm_values = []\n",
    "m_values_ns = []\n",
    "k = k_values[0]\n",
    "for m in m_values:\n",
    "    print(m)\n",
    "    m_values_ns.append(m * 10)\n",
    "    nrgs = []\n",
    "    number_of_events = len(raw_data)\n",
    "    assert number_of_events <= len(raw_data)\n",
    "    for i in range(0, number_of_events, 1):\n",
    "        signal = raw_data[i,:]\n",
    "        nrg = filter_and_get_energy(signal, l, k, M)\n",
    "        nrgs.append(round(nrg, 7))\n",
    "    end2 = time.time()\n",
    "    print(end2 - start)\n",
    "    nbins = 2048\n",
    "    co_counts, bin_edges = np.histogram(nrgs, bins=2048, range=[2.3e8, 2.8e8]) # WORKS\n",
    "    bins = (bin_edges[1:]+bin_edges[:-1])/2 # bin centers from bin edges\n",
    "    end3 = time.time()\n",
    "    print(end3 - start)\n",
    "    #co_energies = calibrate_co_spectrum(nrgs)\n",
    "    #fwhm, center = get_energy_resolution_co_1173(co_energies, co_counts)\n",
    "    fwhm, center = get_energy_resolution_co_1332(co_energies, co_counts)\n",
    "    end4 = time.time()\n",
    "    print(end4 - start)\n",
    "    fwhm_values.append(fwhm)\n",
    "    print('end')\n",
    "\n",
    "# RUNTIME = 25 seconds per m loop"
   ]
  },
  {
   "cell_type": "code",
   "execution_count": null,
   "metadata": {},
   "outputs": [],
   "source": [
    "plt.plot(m_values_ns, fwhm_values, 'o')\n",
    "plt.xlabel('gap time (ns)')\n",
    "plt.ylabel('fwhm (keV)')\n",
    "plt.title('gap time vs energy resolution' + '\\n'  + 'peaking time = 1000 ns')\n",
    "plt.show()"
   ]
  },
  {
   "cell_type": "code",
   "execution_count": 327,
   "metadata": {},
   "outputs": [
    {
     "data": {
      "image/png": "[encoded data removed]",
      "text/plain": [
       "<matplotlib.figure.Figure at 0x114a7f2d0>"
      ]
     },
     "metadata": {},
     "output_type": "display_data"
    },
    {
     "data": {
      "image/png": "[encoded data removed]",
      "text/plain": [
       "<matplotlib.figure.Figure at 0x113ba0a10>"
      ]
     },
     "metadata": {},
     "output_type": "display_data"
    },
    {
     "data": {
      "image/png": "[encoded data removed]",
      "text/plain": [
       "<matplotlib.figure.Figure at 0x113ed05d0>"
      ]
     },
     "metadata": {},
     "output_type": "display_data"
    }
   ],
   "source": [
    "plt.plot(bins, co_counts)\n",
    "plt.show()\n",
    "plt.plot(bins[200:400], co_counts[200:400])\n",
    "plt.show()\n",
    "plt.plot(bins[400:], co_counts[400:])\n",
    "plt.show()"
   ]
  },
  {
   "cell_type": "code",
   "execution_count": null,
   "metadata": {
    "collapsed": true
   },
   "outputs": [],
   "source": [
    "plt.plot(m_values, index, 'o')\n",
    "plt.show()"
   ]
  },
  {
   "cell_type": "code",
   "execution_count": null,
   "metadata": {
    "collapsed": true
   },
   "outputs": [],
   "source": [
    "plt.plot(m_values_ns, fwhm_values, 'o')\n",
    "plt.show()"
   ]
  },
  {
   "cell_type": "code",
   "execution_count": null,
   "metadata": {
    "collapsed": true
   },
   "outputs": [],
   "source": [
    "plt.plot(m_values_ns, fwhm_values, 'o')\n",
    "plt.xlabel('gap time (ns)')\n",
    "plt.title('variable gap with peaking time = 1')\n",
    "plt.show()"
   ]
  },
  {
   "cell_type": "code",
   "execution_count": null,
   "metadata": {
    "collapsed": true
   },
   "outputs": [],
   "source": []
  },
  {
   "cell_type": "code",
   "execution_count": null,
   "metadata": {
    "collapsed": true
   },
   "outputs": [],
   "source": [
    "# END HERE STOP "
   ]
  },
  {
   "cell_type": "code",
   "execution_count": null,
   "metadata": {},
   "outputs": [],
   "source": []
  },
  {
   "cell_type": "code",
   "execution_count": 61,
   "metadata": {},
   "outputs": [
    {
     "name": "stdout",
     "output_type": "stream",
     "text": [
      "1107731.52388\n",
      "38280.8694215\n"
     ]
    }
   ],
   "source": [
    "#k_values = np.linspace(500, 10000, 2) # steps in 100 ns from 1ns to 10us\n",
    "m_values = np.linspace(0, 100000, 10) # steps in 100 ns from 1ns to 10us\n",
    "\n",
    "M = 4400\n",
    "\n",
    "k = 100\n",
    "#m_values = np.linspace(1, 10000, 10)\n",
    "\n",
    "fwhm_values = []\n",
    "m_values_ns = []\n",
    "index = []\n",
    "for m in m_values:\n",
    "    print(m)\n",
    "    m_values_ns.append(m * 10)\n",
    "    nrgs = []\n",
    "    number_of_events = len(raw_data)\n",
    "    assert number_of_events <= len(raw_data)\n",
    "\n",
    "    for i in range(0, number_of_events, 1):\n",
    "        signal = raw_data[i,:]\n",
    "        nrg = filter_and_get_energy(signal, l, k, M)\n",
    "        nrgs.append(round(nrg, 7))\n",
    "        \n",
    "    nbins = 2048\n",
    "    co_counts, bin_edges = np.histogram(nrgs, bins=2048, range=[2.3e8, 2.9e8]) # WORKS\n",
    "    bins = (bin_edges[1:]+bin_edges[:-1])/2 # bin centers from bin edges\n",
    "    index.append(np.argmax(co_counts))\n",
    "   # co_energies = calibrate_co_spectrum(nrgs)\n",
    "    #fwhm, center = get_energy_resolution_co_1173(co_energies, co_counts)\n",
    "  #  fwhm, center = get_energy_resolution_co_1332(co_energies, co_counts)\n",
    "        \n",
    "  #  fwhm_values.append(fwhm)\n",
    "        "
   ]
  },
  {
   "cell_type": "code",
   "execution_count": null,
   "metadata": {},
   "outputs": [],
   "source": []
  },
  {
   "cell_type": "code",
   "execution_count": null,
   "metadata": {
    "collapsed": true
   },
   "outputs": [],
   "source": []
  },
  {
   "cell_type": "code",
   "execution_count": null,
   "metadata": {
    "collapsed": true
   },
   "outputs": [],
   "source": []
  },
  {
   "cell_type": "code",
   "execution_count": null,
   "metadata": {
    "collapsed": true
   },
   "outputs": [],
   "source": []
  },
  {
   "cell_type": "code",
   "execution_count": 78,
   "metadata": {},
   "outputs": [
    {
     "name": "stdout",
     "output_type": "stream",
     "text": [
      "('XVAL', 4096)\n",
      "('RAW ', 4096)\n"
     ]
    },
    {
     "data": {
      "image/png": "[encoded data removed]",
      "text/plain": [
       "<matplotlib.figure.Figure at 0x111d66150>"
      ]
     },
     "metadata": {},
     "output_type": "display_data"
    },
    {
     "data": {
      "image/png": "[encoded data removed]",
      "text/plain": [
       "<matplotlib.figure.Figure at 0x1135efa90>"
      ]
     },
     "metadata": {},
     "output_type": "display_data"
    },
    {
     "name": "stdout",
     "output_type": "stream",
     "text": [
      "2.38843e+08\n",
      "('gain = ', 1.0)\n"
     ]
    },
    {
     "data": {
      "image/png": "[encoded data removed]",
      "text/plain": [
       "<matplotlib.figure.Figure at 0x1127eee90>"
      ]
     },
     "metadata": {},
     "output_type": "display_data"
    }
   ],
   "source": [
    "\n",
    "if __name__ == \"__main__\":\n",
    "\n",
    "    filename = './DATA_co60_2.h5'\n",
    "    hf = tables.open_file(filename, \"r\")\n",
    "\n",
    "    event_data = hf.root.EventData.read()\n",
    "    raw_data = hf.root.RawData.read()\n",
    "    hf.close()\n",
    "\n",
    "    sampling_time = 10.0\n",
    "    n_data = 4096\n",
    "    x_values = np.linspace(0, n_data, n_data)\n",
    "    print(\"XVAL\" , len(x_values))\n",
    "\n",
    "    k = 100 # peaking\n",
    "    m = 100 # gap\n",
    "    raw_signal = raw_data[2,:]\n",
    "    print(\"RAW \", len(raw_signal))\n",
    "    plt.plot(x_values, raw_signal)\n",
    "    signal = baseline_correction(raw_signal)\n",
    "    signal = trapezoidal_filter_2(signal, m, k)\n",
    "\n",
    "    plt.figure(41)\n",
    "    plt.cla()\n",
    "    plt.clf()\n",
    "    plt.plot(x_values, signal)\n",
    "    plt.title('sample sig')\n",
    "    plt.show()\n",
    "\n",
    "    energy = get_energy_value(signal)\n",
    "    print(energy)\n",
    "\n",
    "    nrgs_2 = []\n",
    "    number_of_events = len(raw_data)\n",
    "    number_of_events = 1\n",
    "    assert number_of_events < len(raw_data)\n",
    "    k = 100 # peaking time\n",
    "    l = 100 # gap\n",
    "\n",
    "    for i in range(0, number_of_events, 1):\n",
    "        gap = 100\n",
    "        peak = 100\n",
    "        signal = raw_data[i,:]\n",
    "        signal = baseline_correction(signal)\n",
    "        maxval = max(signal)\n",
    "        signal = signal / maxval\n",
    "        signal = trapezoidal_filter_2(signal, gap, peak)\n",
    "        signal = signal / 424829.69\n",
    "        print('gain = ', max(signal))\n",
    "        nrg = get_energy_value(signal)\n",
    "        #nrg = filter_and_get_energy(raw_data[i,:], gap, peak)\n",
    "        nrgs_2.append(round(nrg, 7))\n",
    "\n",
    "\n",
    "\n",
    "    plt.hist(nrgs_2, 500, log=True)\n",
    "    plt.show()"
   ]
  },
  {
   "cell_type": "code",
   "execution_count": null,
   "metadata": {
    "collapsed": true
   },
   "outputs": [],
   "source": []
  },
  {
   "cell_type": "code",
   "execution_count": null,
   "metadata": {
    "collapsed": true
   },
   "outputs": [],
   "source": []
  },
  {
   "cell_type": "code",
   "execution_count": null,
   "metadata": {
    "collapsed": true
   },
   "outputs": [],
   "source": []
  },
  {
   "cell_type": "code",
   "execution_count": null,
   "metadata": {
    "collapsed": true
   },
   "outputs": [],
   "source": []
  },
  {
   "cell_type": "code",
   "execution_count": null,
   "metadata": {
    "collapsed": true
   },
   "outputs": [],
   "source": []
  },
  {
   "cell_type": "code",
   "execution_count": null,
   "metadata": {
    "collapsed": true
   },
   "outputs": [],
   "source": []
  }
 ],
 "metadata": {
  "kernelspec": {
   "display_name": "Python 2",
   "language": "python",
   "name": "python2"
  },
  "language_info": {
   "codemirror_mode": {
    "name": "ipython",
    "version": 2
   },
   "file_extension": ".py",
   "mimetype": "text/x-python",
   "name": "python",
   "nbconvert_exporter": "python",
   "pygments_lexer": "ipython2",
   "version": "2.7.14"
  }
 },
 "nbformat": 4,
 "nbformat_minor": 2
}
