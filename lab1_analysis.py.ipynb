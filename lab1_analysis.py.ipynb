{
 "cells": [
  {
   "cell_type": "code",
   "execution_count": 5,
   "metadata": {
    "collapsed": true
   },
   "outputs": [],
   "source": [
    "### fix how M values is taken in\n",
    "# Switch to Jupyter Notebook\n",
    "# Import Data\n",
    "# Make a special data file with only 10 events or so\n",
    "# Plot the raw signals from those 10 events\n",
    "# Plot resulting Trapezoids\n",
    "# Plot energy spectrum of those 10\n",
    "# figure out calibration\n",
    "# Plot the full, calibrated energy spectra for Co, Cs, Am (to check for re-takes)\n",
    "# Fit peaks and get FWHM Values\n",
    "# Plot FWHM vs gap time\n",
    "# Plot FWHM vs peak time\n",
    "# Set optimal peak and gap times and save spectrum\n",
    "# Make electronic noise plot\n",
    "# calculate FANO factor\n",
    "# Write text\n",
    "# What else?\n",
    "\n",
    "# REDO DATA Cs = low stats, Co maybe okay, Am/ Co peaks?/ pulser?"
   ]
  },
  {
   "cell_type": "code",
   "execution_count": 6,
   "metadata": {
    "collapsed": true
   },
   "outputs": [],
   "source": [
    "from __future__ import division, print_function\n",
    "from numba import jit\n",
    "from math import floor\n",
    "import matplotlib.pyplot as plt\n",
    "import numpy as np\n",
    "import lmfit\n",
    "import tables\n",
    "import sys"
   ]
  },
  {
   "cell_type": "code",
   "execution_count": 307,
   "metadata": {
    "collapsed": true
   },
   "outputs": [],
   "source": [
    "@jit(parallel = True)\n",
    "def baseline_correction(data):\n",
    "    n_data = len(data)\n",
    "    baseline_correction_value = np.mean(data[0:799])\n",
    "    for i in range(0, n_data, 1):\n",
    "        data[i] = data[i] - baseline_correction_value\n",
    "    return data\n",
    "\n",
    "def test_baseline_correction():\n",
    "    data = []\n",
    "    for i in range(0, 800, 1): # TODO NOT WORKING\n",
    "        data.append(100)\n",
    "    for i in range(800, 810, 1):\n",
    "        data.append(500)\n",
    "    data = baseline_correction(data)\n",
    "    assert data[10] == 0\n",
    "\n",
    "def pz_correction(data, tau):\n",
    "    pz_corrected = []\n",
    "    pz_correction = []\n",
    "    for i in range(0, n_data, 1):\n",
    "        pz = np.sum(data[1:i-1])\n",
    "        pz_correction.append(pz)\n",
    "        pz_corrected.append(data[i] + pz / tau)\n",
    "    return pz_corrected\n",
    "\n",
    "# def trapezoidal_filter(data, gap_time, peaking_time):\n",
    "#     m = gap_time\n",
    "#     k = peaking_time\n",
    "#     l = peaking_time + gap_time\n",
    "#     filtered_signal = [0]*4096\n",
    "#     for j in range(k + 1, k + m, 1):\n",
    "#         sig = np.sum(data[j - k: j])\n",
    "#         filtered_signal[j] = sig\n",
    "#     for j in range(k + l + 1, n_data, 1):\n",
    "#         sig = np.sum(data[j - k: j]) - np.sum(data[j - l - k: j - l])\n",
    "#         filtered_signal[j] = sig\n",
    "#     return filtered_signal\n",
    "\n",
    "def find_M_value(data, num):\n",
    "    tau_values = []\n",
    "    for i in range(0, num, 1):\n",
    "        signal = raw_data[2,:]\n",
    "        x = np.asarray(range(np.argmax(signal), n_data, 1))\n",
    "        y = np.asarray(signal[np.argmax(signal):n_data])\n",
    "        out = FitExponential(x, y)\n",
    "        tau_values.append(out['exp_decay'].value)\n",
    "    tau = np.mean(tau_values)\n",
    "    return tau\n",
    "\n",
    "@jit(parallel = True)\n",
    "def trapezoidal_filter(signal, m, k, M):\n",
    "    sum_3 = np.zeros(len(signal), dtype=np.float32)\n",
    "    sum_4 = np.zeros(len(signal), dtype=np.float32)\n",
    "    acc_1 = np.zeros(len(signal), dtype=np.float32)\n",
    "    acc_2 = np.zeros(len(signal), dtype=np.float32)\n",
    "\n",
    "    for i in range(2 * k + m, len(signal)):  # following block diagram in Jordanov paper\n",
    "        sum1 = signal[i] - signal[i - k]\n",
    "        sum2 = signal[i - k - m - k] - signal[i - k - m]\n",
    "        sum_3[i] = sum1 + sum2\n",
    "        acc_1[i] = sum_3[i] + acc_1[i - 1] # S(n-1) + sum3(n)\n",
    "        sum_4[i] = acc_1[i] + M * sum_3[i] #PZ correction?? same?\n",
    "        acc_2[i] = sum_4[i] + acc_2[i-1]\n",
    "    return acc_2\n",
    "\n",
    "@jit(parallel = True)\n",
    "def get_energy_value(data): # TODO\n",
    "    energy = max(data)\n",
    "    return energy\n",
    "\n",
    "def get_time_values(length_of_data, sampling_time):\n",
    "    time_values = np.linspace(0, length_of_data * sampling_time, length_of_data)\n",
    "    return time_values\n",
    "\n",
    "def FitExponential(x, y):\n",
    "    exp = lmfit.models.ExponentialModel(prefix='exp_')\n",
    "    pars = exp.guess(y, x=x)\n",
    "    mod = exp\n",
    "    init = mod.eval(pars, x=x)\n",
    "    out = mod.fit(y, pars, x=x)\n",
    "    # print(out.fit_report())\n",
    "    # plt.figure()\n",
    "    # plt.plot(x, y, 'o')\n",
    "    # plt.plot(x, out.best_fit, 'r--')\n",
    "    # plt.show()\n",
    "    return out.params\n",
    "\n",
    "def filter_and_get_energy(signal, peak, gap, M):\n",
    "    signal = baseline_correction(signal)\n",
    "    signal = trapezoidal_filter(signal, gap, peak, M)\n",
    "    energy_value = get_energy_value(signal)\n",
    "    energy_value = round(energy_value, 7)\n",
    "    #energy_value = energy_value / 440000\n",
    "    return energy_value\n",
    "\n",
    "def FitGaussianWithPlot(x, y):\n",
    "    mod = lmfit.models.GaussianModel()\n",
    "    pars = mod.guess(y, x=x)\n",
    "    out = mod.fit(y, pars, x=x)\n",
    "    print(out.fit_report(min_correl=0.25))\n",
    "    plt.plot(x, y, 'bo')\n",
    "    plt.plot(x, out.init_fit, 'k--')\n",
    "    plt.plot(x, out.best_fit, 'r-')\n",
    "    plt.show()\n",
    "    fwhm = out.params['fwhm'].value\n",
    "    center = out.params['center'].value\n",
    "    return fwhm, center\n",
    "    \n",
    "\n",
    "def FitGaussianPeakLinearBackground(x, y, peak_amplitude, peak_centroid, peak_sigma):\n",
    "\n",
    "    peak_amplitude = int(peak_amplitude)\n",
    "    peak_centroid = int(peak_centroid)\n",
    "    peak_sigma = int(peak_sigma)\n",
    "\n",
    "    bkg_mod = lmfit.models.LinearModel(prefix='lin_')\n",
    "    pars = bkg_mod.guess(y, x=x)\n",
    "\n",
    "    gauss1 = lmfit.models.GaussianModel(prefix='g1_')\n",
    "    pars.update(gauss1.make_params())\n",
    "\n",
    "    pars['g1_center'].set((peak_centroid), min=(peak_centroid - 200), max=(peak_centroid + 200))\n",
    "    pars['g1_sigma'].set(peak_sigma, min=0.1)\n",
    "    pars['g1_amplitude'].set(peak_amplitude, min=10)\n",
    "\n",
    "    #gauss2  = GaussianModel(prefix='g2_')\n",
    "    #pars.update(gauss2.make_params())\n",
    "    #pars['g2_center'].set(155, min=125, max=175)\n",
    "    #pars['g2_sigma'].set(15, min=3)\n",
    "    #pars['g2_amplitude'].set(2000, min=10)\n",
    "\n",
    "    mod = gauss1 + bkg_mod\n",
    "    init = mod.eval(pars, x=x)\n",
    "    out = mod.fit(y, pars, x=x)\n",
    "\n",
    "    comps = out.eval_components(x=x)\n",
    "\n",
    "    #print(\"fwhm:\")\n",
    "    fit_fwhm = (out.params['g1_fwhm'].value)\n",
    "    fit_fwhm_err = (out.params['g1_fwhm'].stderr)\n",
    "    fit_center = (out.params['g1_center'].value)\n",
    "    fit_sigma = (out.params['g1_sigma'].value)\n",
    "    fit_height = (out.params['g1_height'].value)\n",
    "    print(\"=========FIT HEIGHT=========\")\n",
    "    print(fit_height)\n",
    "    fit_amplitude = (out.params['g1_amplitude'].value)\n",
    "    chisqr = out.chisqr\n",
    "    redchi = out.redchi\n",
    "\n",
    "    print(out.fit_report(min_correl=0.5))\n",
    "\n",
    "    plt.figure(figsize=(10, 5))\n",
    "\n",
    "    plt.axis([(out.params['g1_center'].value - 2 * out.params['g1_fwhm'].value), (out.params['g1_center'].value + 2 * out.params['g1_fwhm'].value), 0, (1.2 * out.params['g1_height'].value)])\n",
    "    ax = plt.gca()\n",
    "    ax.set_autoscale_on(False)\n",
    "\n",
    "    plt.plot(x, y, 'bo')\n",
    "    plt.plot(x, out.init_fit, 'k--')\n",
    "    plt.plot(x, out.best_fit, 'r-')\n",
    "    plt.plot(x, comps['g1_'], 'b--')\n",
    "    #plt.plot(x, comps['g2_'], 'b--')\n",
    "    plt.plot(x, comps['lin_'], 'g--')\n",
    "\n",
    "    myfile = open('testfile.txt', 'w')\n",
    "    myfile.write(out.fit_report())\n",
    "    myfile.close()\n",
    "\n",
    "    #   plt.plot(x, y, 'bo')\n",
    "    #   plt.plot(x, out.init_fit, 'k--')\n",
    "    #   plt.plot(x, out.best_fit, 'r-')\n",
    "    plt.show()\n",
    "\n",
    "    return fit_fwhm, fit_fwhm_err, fit_center, fit_sigma, fit_height, fit_amplitude, chisqr, redchi\n",
    "\n",
    "def ImportData(filename):\n",
    "    # open file\n",
    "    hf = tables.open_file(filename, \"r\")\n",
    "    event_data = hf.root.EventData.read()\n",
    "    raw_data = hf.root.RawData.read()\n",
    "    hf.close()\n",
    "    #h5file = tables.open_file(\"sample.h5\", mode=\"w\")\n",
    "\n",
    "    # mask retriggered events\n",
    "    mask = (event_data['retrigger'] == 1)\n",
    "    raw_data[mask] = 0\n",
    "    return raw_data"
   ]
  },
  {
   "cell_type": "code",
   "execution_count": 308,
   "metadata": {
    "collapsed": true
   },
   "outputs": [],
   "source": [
    "def GetBinCentersFromEdges(edges):\n",
    "    edges = np.array(edges)\n",
    "    centers = (edges[:-1] + edges[1:]) / 2\n",
    "    return centers\n",
    "\n",
    "def selectROI():\n",
    "    lowindex = raw_input(\"ROI low index (channel #)\")\n",
    "    #lowindex = 8000\n",
    "    if lowindex == '':\n",
    "        lowindex = 0\n",
    "    highindex = raw_input(\"ROI high index (channel #)\")\n",
    "    #highindex = 11000\n",
    "    if highindex == '':\n",
    "        highindex = spec.channels(max)\n",
    "    lowindex = int(lowindex)\n",
    "    highindex = int(highindex)\n",
    "    return lowindex, highindex\n",
    "\n",
    "def FitGaussian(x,y):\n",
    "    \n",
    "    mod = lmfit.models.GaussianModel()\n",
    "    \n",
    "    pars = mod.guess(y, x=x)\n",
    "    out  = mod.fit(y, pars, x=x)\n",
    "    #print(out.fit_report(min_correl=0.25))\n",
    "    \n",
    "    fwhm = out.params['fwhm'].value\n",
    "    center = out.params['center'].value\n",
    "    \n",
    "    #plt.plot(x, y, 'bo')\n",
    "    #plt.plot(x, out.init_fit, 'k--')\n",
    "    #plt.plot(x, out.best_fit, 'r-')\n",
    "    #plt.show()\n",
    "    return fwhm, center\n"
   ]
  },
  {
   "cell_type": "code",
   "execution_count": 15,
   "metadata": {
    "collapsed": true
   },
   "outputs": [],
   "source": [
    "# if __name__ == \"__main__\":"
   ]
  },
  {
   "cell_type": "code",
   "execution_count": 16,
   "metadata": {},
   "outputs": [],
   "source": [
    "# filename = 'data/co60.h5'\n",
    "filename = 'data/DATA_co60_2.h5'\n",
    "raw_data = ImportData(filename)"
   ]
  },
  {
   "cell_type": "code",
   "execution_count": 17,
   "metadata": {},
   "outputs": [
    {
     "name": "stdout",
     "output_type": "stream",
     "text": [
      "len  31908\n"
     ]
    }
   ],
   "source": [
    "print('len ', len(raw_data))\n",
    "sampling_time = 10.0\n",
    "n_data = 4096\n",
    "x_values = np.linspace(0, n_data, n_data)"
   ]
  },
  {
   "cell_type": "code",
   "execution_count": 28,
   "metadata": {},
   "outputs": [
    {
     "data": {
      "image/png": "[encoded data removed]",
      "text/plain": [
       "<matplotlib.figure.Figure at 0x1135edb10>"
      ]
     },
     "metadata": {},
     "output_type": "display_data"
    }
   ],
   "source": [
    "raw_signal = raw_data[2,:]\n",
    "M = find_M_value(raw_data, 100)\n",
    "signal = baseline_correction(raw_signal)\n",
    "plt.plot(signal)\n",
    "plt.show()"
   ]
  },
  {
   "cell_type": "code",
   "execution_count": 29,
   "metadata": {},
   "outputs": [
    {
     "data": {
      "image/png": "[encoded data removed]",
      "text/plain": [
       "<matplotlib.figure.Figure at 0x1140091d0>"
      ]
     },
     "metadata": {},
     "output_type": "display_data"
    }
   ],
   "source": [
    "peaking_time = 100 \n",
    "gap = 100 \n",
    "M = 4400\n",
    "filtered_signal = trapezoidal_filter(signal, gap, peaking_time, M)\n",
    "plt.figure(41)\n",
    "plt.cla()\n",
    "plt.clf()\n",
    "plt.plot(x_values, filtered_signal)\n",
    "plt.show()"
   ]
  },
  {
   "cell_type": "code",
   "execution_count": 32,
   "metadata": {},
   "outputs": [
    {
     "name": "stdout",
     "output_type": "stream",
     "text": [
      "2.38403e+08\n"
     ]
    }
   ],
   "source": [
    "energy = get_energy_value(filtered_signal)\n",
    "print(energy)"
   ]
  },
  {
   "cell_type": "code",
   "execution_count": 57,
   "metadata": {},
   "outputs": [
    {
     "name": "stdout",
     "output_type": "stream",
     "text": [
      "max  9246273536.0\n",
      "min  0.0\n"
     ]
    }
   ],
   "source": [
    "nrgs = []\n",
    "\n",
    "number_of_events = len(raw_data)\n",
    "assert number_of_events <= len(raw_data)\n",
    "\n",
    "k = 100 # peaking time\n",
    "l = 100 # gap\n",
    "M = 4400\n",
    "\n",
    "for i in range(0, number_of_events, 1):\n",
    "    signal = raw_data[i,:]\n",
    "    nrg = filter_and_get_energy(signal, l, k, M)\n",
    "    nrgs.append(round(nrg, 7))"
   ]
  },
  {
   "cell_type": "code",
   "execution_count": 191,
   "metadata": {},
   "outputs": [
    {
     "data": {
      "image/png": "[encoded data removed]",
      "text/plain": [
       "<matplotlib.figure.Figure at 0x1144db650>"
      ]
     },
     "metadata": {},
     "output_type": "display_data"
    },
    {
     "data": {
      "image/png": "[encoded data removed]",
      "text/plain": [
       "<matplotlib.figure.Figure at 0x1140aa510>"
      ]
     },
     "metadata": {},
     "output_type": "display_data"
    }
   ],
   "source": [
    "nbins = 2048\n",
    "counts, bin_edges = np.histogram(nrgs, bins=2048, range=[1.75e8, 2.9e8]) #range=[2.3e8, 2.9e8] WORKS\n",
    "bins = (bin_edges[1:]+bin_edges[:-1])/2 # bin centers from bin edges\n",
    "plt.figure()\n",
    "plt.plot(bins, counts)\n",
    "plt.title('Co-60 Spectrum')\n",
    "plt.ylabel('counts')\n",
    "plt.xlabel('channel')\n",
    "plt.savefig('./co60.pdf')\n",
    "plt.show()\n",
    "\n",
    "nbins = 2048\n",
    "counts, bin_edges = np.histogram(nrgs, bins=2048, range=[2.3e8, 2.9e8]) # WORKS\n",
    "bins = (bin_edges[1:]+bin_edges[:-1])/2 # bin centers from bin edges\n",
    "plt.figure()\n",
    "plt.plot(bins, counts)\n",
    "plt.title('Co-60 Spectrum')\n",
    "plt.ylabel('counts')\n",
    "plt.xlabel('channel')\n",
    "plt.savefig('./co60.pdf')\n",
    "plt.show()\n"
   ]
  },
  {
   "cell_type": "code",
   "execution_count": 192,
   "metadata": {},
   "outputs": [],
   "source": [
    "def findpeaks(data_x, data_y, low_index, high_index):\n",
    "    cut_data_y = data_y[low_index:high_index]\n",
    "    for i in range (low_index,high_index):\n",
    "        if data_y[i] == max(cut_data_y):\n",
    "            centerindex =  data_x[i]\n",
    "            minindex=low_index\n",
    "            maxindex=high_index\n",
    "            amplitude = max(cut_data_y)\n",
    "    ROIrange = [minindex, maxindex]\n",
    "    return centerindex, amplitude, minindex, maxindex\n",
    "\n",
    "# def apply_calibration(self, cal):\n",
    "#     n_edges = len(self.channels) + 1\n",
    "#     channel_edges = np.linspace(-0.5, float(self.channels[-1] + 0.5), num=n_edges)\n",
    "#     self.bin_edges_kev = cal.ch2kev(channel_edges)\n",
    "#     return self.slope * ch + self.offset\n",
    "\n",
    "def calculate_coefficients(calibration_channels, calibration_energies, polynomial_order):\n",
    "    return np.polyfit(calibration_channels, calibration_energies, polynomial_order)\n",
    "\n",
    "def calculate_energies(x, m, b):\n",
    "    energies = m * x + b\n",
    "    return energies"
   ]
  },
  {
   "cell_type": "code",
   "execution_count": 243,
   "metadata": {},
   "outputs": [],
   "source": [
    "def calibrate_co_spectrum(nrgs):# Get first calibration point, ROI HARDCODED\n",
    "    nbins = 2048\n",
    "    counts, bin_edges = np.histogram(nrgs, bins=2048, range=[2.3e8, 2.9e8]) # WORKS\n",
    "    bins = (bin_edges[1:]+bin_edges[:-1])/2 # bin centers from bin edges\n",
    "    x = bins\n",
    "    y = counts\n",
    "    ROI_low =400\n",
    "    ROI_high = 600\n",
    "    centroidguess, amplitudeguess, ROIrangemin, ROIrangemax = findpeaks(x, y, ROI_low, ROI_high)\n",
    "    fwhm1, center1 = FitGaussian(x[ROI_low:ROI_high], y[ROI_low:ROI_high])\n",
    "    \n",
    "    ROI_low =1550\n",
    "    ROI_high = 1700\n",
    "    centroidguess, amplitudeguess, ROIrangemin, ROIrangemax = findpeaks(x, y, ROI_low, ROI_high)\n",
    "    fwhm2, center2 = FitGaussian(x[ROI_low:ROI_high], y[ROI_low:ROI_high])\n",
    "    \n",
    "    # from above fits:\n",
    "\n",
    "    Co_energies = [1173.2, 1332.5] # MeV\n",
    "    #Co_indices = [2.4416e+08, 2.7727e+08]\n",
    "    Co_indices = [center1, center2]\n",
    "    print (Co_indices)\n",
    "    \n",
    "    f = calculate_coefficients(Co_indices, Co_energies, 1)\n",
    "    print(f)\n",
    "    m = f[0]\n",
    "    b = f[1]\n",
    "    energies = calculate_energies(x, m, b)\n",
    "    \n",
    "    return energies\n"
   ]
  },
  {
   "cell_type": "code",
   "execution_count": 244,
   "metadata": {},
   "outputs": [
    {
     "name": "stdout",
     "output_type": "stream",
     "text": [
      "[[Model]]\n",
      "    Model(gaussian)\n",
      "[[Fit Statistics]]\n",
      "    # function evals   = 19\n",
      "    # data points      = 200\n",
      "    # variables        = 3\n",
      "    chi-square         = 9483.036\n",
      "    reduced chi-square = 48.137\n",
      "    Akaike info crit   = 777.788\n",
      "    Bayesian info crit = 787.683\n",
      "[[Variables]]\n",
      "    sigma:       3.9768e+05 +/- 3.86e+03 (0.97%) (init= 395507.8)\n",
      "    center:      2.4381e+08 +/- 3.86e+03 (0.00%) (init= 2.438281e+08)\n",
      "    amplitude:   2.0561e+08 +/- 1.73e+06 (0.84%) (init= 2.669678e+08)\n",
      "    fwhm:        9.3647e+05 +/- 9.08e+03 (0.97%)  == '2.3548200*sigma'\n",
      "    height:      206.259319 +/- 1.732374 (0.84%)  == '0.3989423*amplitude/max(1.e-15, sigma)'\n",
      "[[Correlations]] (unreported correlations are <  0.250)\n",
      "    C(sigma, amplitude)          =  0.577 \n",
      "\n"
     ]
    },
    {
     "data": {
      "image/png": "[encoded data removed]",
      "text/plain": [
       "<matplotlib.figure.Figure at 0x113a8d510>"
      ]
     },
     "metadata": {},
     "output_type": "display_data"
    },
    {
     "name": "stdout",
     "output_type": "stream",
     "text": [
      "[[Model]]\n",
      "    Model(gaussian)\n",
      "[[Fit Statistics]]\n",
      "    # function evals   = 19\n",
      "    # data points      = 150\n",
      "    # variables        = 3\n",
      "    chi-square         = 8301.244\n",
      "    reduced chi-square = 56.471\n",
      "    Akaike info crit   = 608.029\n",
      "    Bayesian info crit = 617.061\n",
      "[[Variables]]\n",
      "    sigma:       3.6946e+05 +/- 4.16e+03 (1.13%) (init= 366210.9)\n",
      "    center:      2.7696e+08 +/- 4.16e+03 (0.00%) (init= 2.769629e+08)\n",
      "    amplitude:   1.8496e+08 +/- 1.80e+06 (0.97%) (init= 2.416992e+08)\n",
      "    fwhm:        8.7002e+05 +/- 9.79e+03 (1.13%)  == '2.3548200*sigma'\n",
      "    height:      199.718546 +/- 1.946636 (0.97%)  == '0.3989423*amplitude/max(1.e-15, sigma)'\n",
      "[[Correlations]] (unreported correlations are <  0.250)\n",
      "    C(sigma, amplitude)          =  0.577 \n",
      "\n"
     ]
    },
    {
     "data": {
      "image/png": "[encoded data removed]",
      "text/plain": [
       "<matplotlib.figure.Figure at 0x11433ff50>"
      ]
     },
     "metadata": {},
     "output_type": "display_data"
    },
    {
     "name": "stdout",
     "output_type": "stream",
     "text": [
      "[243807779.4645904, 276956974.7552224]\n",
      "[  4.80554652e-06   1.57037436e+00]\n"
     ]
    }
   ],
   "source": [
    "co_energies = calibrate_co_spectrum(nrgs)"
   ]
  },
  {
   "cell_type": "code",
   "execution_count": 245,
   "metadata": {},
   "outputs": [
    {
     "data": {
      "image/png": "[encoded data removed]",
      "text/plain": [
       "<matplotlib.figure.Figure at 0x1148580d0>"
      ]
     },
     "metadata": {},
     "output_type": "display_data"
    }
   ],
   "source": [
    "plt.plot(co_energies, counts)\n",
    "plt.show()"
   ]
  },
  {
   "cell_type": "code",
   "execution_count": 328,
   "metadata": {},
   "outputs": [],
   "source": [
    "def get_energy_resolution_co_1173(x, y):\n",
    "    ROI_low =400\n",
    "    ROI_high = 600\n",
    "    centroidguess, amplitudeguess, ROIrangemin, ROIrangemax = findpeaks(x, y, ROI_low, ROI_high)\n",
    "    fwhm, center = FitGaussian(x[ROI_low:ROI_high], y[ROI_low:ROI_high])\n",
    "\n",
    "    return fwhm, center\n",
    "\n",
    "def get_energy_resolution_co_1332(x, y):\n",
    "    i = int(np.argmax(y))\n",
    "    ROI_low = int(i + 100)\n",
    "    ROI_high =  2048\n",
    "    centroidguess, amplitudeguess, ROIrangemin, ROIrangemax = findpeaks(x, y, ROI_low, ROI_high)\n",
    "    fwhm, center =  FitGaussianWithPlot(x[ROI_low:ROI_high], y[ROI_low:ROI_high])\n",
    "\n",
    "    return fwhm, center"
   ]
  },
  {
   "cell_type": "code",
   "execution_count": 329,
   "metadata": {},
   "outputs": [
    {
     "name": "stdout",
     "output_type": "stream",
     "text": [
      "[[Model]]\n",
      "    Model(gaussian)\n",
      "[[Fit Statistics]]\n",
      "    # function evals   = 198\n",
      "    # data points      = 335\n",
      "    # variables        = 3\n",
      "    chi-square         = 20.550\n",
      "    reduced chi-square = 0.062\n",
      "    Akaike info crit   = -929.080\n",
      "    Bayesian info crit = -917.637\n",
      "[[Variables]]\n",
      "    sigma:       516.095000 +/- 1.71e+05 (33091.17%) (init= 21.75521)\n",
      "    center:      2703.50967 +/- 8.79e+05 (32531.44%) (init= 1370.684)\n",
      "    amplitude:   2387.51113 +/- 5.91e+06 (247399.15%) (init= 65.26564)\n",
      "    fwhm:        1215.31082 +/- 4.02e+05 (33091.17%)  == '2.3548200*sigma'\n",
      "    height:      1.84555010 +/- 3.96e+03 (214309.20%)  == '0.3989423*amplitude/max(1.e-15, sigma)'\n",
      "[[Correlations]] (unreported correlations are <  0.250)\n",
      "    C(center, amplitude)         =  1.000 \n",
      "    C(sigma, center)             =  1.000 \n",
      "    C(sigma, amplitude)          =  1.000 \n",
      "\n"
     ]
    },
    {
     "data": {
      "image/png": "[encoded data removed]",
      "text/plain": [
       "<matplotlib.figure.Figure at 0x1138c7c50>"
      ]
     },
     "metadata": {},
     "output_type": "display_data"
    }
   ],
   "source": [
    "energy_values = []\n",
    "fwhm_values = []\n",
    "\n",
    "fwhm, center = get_energy_resolution_co_1173(energies, counts)\n",
    "fwhm_values.append(fwhm)\n",
    "energy_values.append(center)\n",
    "fwhm, center = get_energy_resolution_co_1332(energies, counts)\n",
    "fwhm_values.append(fwhm)\n",
    "energy_values.append(center)"
   ]
  },
  {
   "cell_type": "code",
   "execution_count": 330,
   "metadata": {},
   "outputs": [
    {
     "data": {
      "image/png": "[encoded data removed]",
      "text/plain": [
       "<matplotlib.figure.Figure at 0x10eabaf90>"
      ]
     },
     "metadata": {},
     "output_type": "display_data"
    }
   ],
   "source": [
    "plt.plot(energy_values, fwhm_values, 'o')\n",
    "plt.show()"
   ]
  },
  {
   "cell_type": "code",
   "execution_count": 332,
   "metadata": {},
   "outputs": [
    {
     "name": "stdout",
     "output_type": "stream",
     "text": [
      "10.0\n",
      "[8889630.978233846, 269688497.0172923]\n",
      "[  6.10815539e-07   1.16777008e+03]\n",
      "[[Model]]\n",
      "    Model(gaussian)\n",
      "[[Fit Statistics]]\n",
      "    # function evals   = 27\n",
      "    # data points      = 1605\n",
      "    # variables        = 3\n",
      "    chi-square         = 12639.300\n",
      "    reduced chi-square = 7.890\n",
      "    Akaike info crit   = 3318.218\n",
      "    Bayesian info crit = 3334.361\n",
      "[[Variables]]\n",
      "    sigma:       0.46357867 +/- 0.003097 (0.67%) (init= 0.4205322)\n",
      "    center:      1334.65761 +/- 0.003097 (0.00%) (init= 1334.657)\n",
      "    amplitude:   101.942862 +/- 0.589930 (0.58%) (init= 138.7756)\n",
      "    fwhm:        1.09164433 +/- 0.007294 (0.67%)  == '2.3548200*sigma'\n",
      "    height:      87.7290565 +/- 0.507675 (0.58%)  == '0.3989423*amplitude/max(1.e-15, sigma)'\n",
      "[[Correlations]] (unreported correlations are <  0.250)\n",
      "    C(sigma, amplitude)          =  0.577 \n",
      "\n"
     ]
    },
    {
     "data": {
      "image/png": "[encoded data removed]",
      "text/plain": [
       "<matplotlib.figure.Figure at 0x113df9190>"
      ]
     },
     "metadata": {},
     "output_type": "display_data"
    },
    {
     "name": "stdout",
     "output_type": "stream",
     "text": [
      "1000.0\n",
      "[10020670.775795434, 269837996.79314685]\n",
      "[  6.13123083e-07   1.16705610e+03]\n",
      "[[Model]]\n",
      "    Model(gaussian)\n",
      "[[Fit Statistics]]\n",
      "    # function evals   = 27\n",
      "    # data points      = 1605\n",
      "    # variables        = 3\n",
      "    chi-square         = 12642.138\n",
      "    reduced chi-square = 7.891\n",
      "    Akaike info crit   = 3318.578\n",
      "    Bayesian info crit = 3334.721\n",
      "[[Variables]]\n",
      "    sigma:       0.46538569 +/- 0.003110 (0.67%) (init= 0.4221209)\n",
      "    center:      1334.57398 +/- 0.003110 (0.00%) (init= 1334.573)\n",
      "    amplitude:   102.331814 +/- 0.592260 (0.58%) (init= 139.2999)\n",
      "    fwhm:        1.09589954 +/- 0.007323 (0.67%)  == '2.3548200*sigma'\n",
      "    height:      87.7218399 +/- 0.507701 (0.58%)  == '0.3989423*amplitude/max(1.e-15, sigma)'\n",
      "[[Correlations]] (unreported correlations are <  0.250)\n",
      "    C(sigma, amplitude)          =  0.577 \n",
      "\n"
     ]
    },
    {
     "data": {
      "image/png": "[encoded data removed]",
      "text/plain": [
       "<matplotlib.figure.Figure at 0x113cf6490>"
      ]
     },
     "metadata": {},
     "output_type": "display_data"
    }
   ],
   "source": [
    "#k_values = np.linspace(500, 10000, 2) # steps in 100 ns from 1ns to 10us\n",
    "m_values = np.linspace(0, 100000, 1000) # steps in 100 ns from 1ns to 10us\n",
    "\n",
    "M = 4400\n",
    "\n",
    "k_values = [100]\n",
    "m_values = np.linspace(10, 1000, 2)\n",
    "fwhm_values = []\n",
    "m_values_ns = []\n",
    "k = k_values[0]\n",
    "for m in m_values:\n",
    "    print(m)\n",
    "    m_values_ns.append(m * 10)\n",
    "    nrgs = []\n",
    "    number_of_events = len(raw_data)\n",
    "    assert number_of_events <= len(raw_data)\n",
    "\n",
    "    for i in range(0, number_of_events, 1):\n",
    "        signal = raw_data[i,:]\n",
    "        nrg = filter_and_get_energy(signal, l, k, M)\n",
    "        nrgs.append(round(nrg, 7))\n",
    "        \n",
    "    nbins = 2048\n",
    "    co_counts, bin_edges = np.histogram(nrgs, bins=2048, range=[2.3e8, 2.9e8]) # WORKS\n",
    "    bins = (bin_edges[1:]+bin_edges[:-1])/2 # bin centers from bin edges\n",
    "\n",
    "    co_energies = calibrate_co_spectrum(nrgs)\n",
    "    #fwhm, center = get_energy_resolution_co_1173(co_energies, co_counts)\n",
    "    fwhm, center = get_energy_resolution_co_1332(co_energies, co_counts)\n",
    "        \n",
    "    fwhm_values.append(fwhm)\n",
    "        "
   ]
  },
  {
   "cell_type": "code",
   "execution_count": null,
   "metadata": {},
   "outputs": [],
   "source": [
    "#k_values = np.linspace(500, 10000, 2) # steps in 100 ns from 1ns to 10us\n",
    "m_values = np.linspace(0, 100000, 1000) # steps in 100 ns from 1ns to 10us\n",
    "\n",
    "M = 4400\n",
    "\n",
    "k = 100\n",
    "#m_values = np.linspace(1, 10000, 10)\n",
    "\n",
    "fwhm_values = []\n",
    "m_values_ns = []\n",
    "index = []\n",
    "for m in m_values:\n",
    "    print(m)\n",
    "    m_values_ns.append(m * 10)\n",
    "    nrgs = []\n",
    "    number_of_events = len(raw_data)\n",
    "    assert number_of_events <= len(raw_data)\n",
    "\n",
    "    for i in range(0, number_of_events, 1):\n",
    "        signal = raw_data[i,:]\n",
    "        nrg = filter_and_get_energy(signal, l, k, M)\n",
    "        nrgs.append(round(nrg, 7))\n",
    "        \n",
    "    nbins = 2048\n",
    "    co_counts, bin_edges = np.histogram(nrgs, bins=2048, range=[2.3e8, 2.9e8]) # WORKS\n",
    "    bins = (bin_edges[1:]+bin_edges[:-1])/2 # bin centers from bin edges\n",
    "    index.append(np.argmax(co_counts))\n",
    "   # co_energies = calibrate_co_spectrum(nrgs)\n",
    "    #fwhm, center = get_energy_resolution_co_1173(co_energies, co_counts)\n",
    "  #  fwhm, center = get_energy_resolution_co_1332(co_energies, co_counts)\n",
    "        \n",
    "  #  fwhm_values.append(fwhm)\n",
    "        "
   ]
  },
  {
   "cell_type": "code",
   "execution_count": 327,
   "metadata": {},
   "outputs": [
    {
     "data": {
      "image/png": "[encoded data removed]",
      "text/plain": [
       "<matplotlib.figure.Figure at 0x114a7f2d0>"
      ]
     },
     "metadata": {},
     "output_type": "display_data"
    },
    {
     "data": {
      "image/png": "[encoded data removed]",
      "text/plain": [
       "<matplotlib.figure.Figure at 0x113ba0a10>"
      ]
     },
     "metadata": {},
     "output_type": "display_data"
    },
    {
     "data": {
      "image/png": "[encoded data removed]",
      "text/plain": [
       "<matplotlib.figure.Figure at 0x113ed05d0>"
      ]
     },
     "metadata": {},
     "output_type": "display_data"
    }
   ],
   "source": [
    "plt.plot(bins, co_counts)\n",
    "plt.show()\n",
    "plt.plot(bins[200:400], co_counts[200:400])\n",
    "plt.show()\n",
    "plt.plot(bins[400:], co_counts[400:])\n",
    "plt.show()"
   ]
  },
  {
   "cell_type": "code",
   "execution_count": null,
   "metadata": {},
   "outputs": [],
   "source": [
    "plt.plot(m_values, index, 'o')\n",
    "plt.show()"
   ]
  },
  {
   "cell_type": "code",
   "execution_count": 333,
   "metadata": {},
   "outputs": [
    {
     "data": {
      "image/png": "[encoded data removed]",
      "text/plain": [
       "<matplotlib.figure.Figure at 0x113aa5490>"
      ]
     },
     "metadata": {},
     "output_type": "display_data"
    }
   ],
   "source": [
    "plt.plot(m_values_ns, fwhm_values, 'o')\n",
    "plt.show()"
   ]
  },
  {
   "cell_type": "code",
   "execution_count": null,
   "metadata": {},
   "outputs": [],
   "source": [
    "plt.plot(m_values_ns, fwhm_values, 'o')\n",
    "plt.xlabel('gap time (ns)')\n",
    "plt.title('variable gap with peaking time = 1')\n",
    "plt.show()"
   ]
  },
  {
   "cell_type": "code",
   "execution_count": null,
   "metadata": {
    "collapsed": true
   },
   "outputs": [],
   "source": []
  },
  {
   "cell_type": "code",
   "execution_count": null,
   "metadata": {},
   "outputs": [],
   "source": [
    "# END HERE STOP "
   ]
  },
  {
   "cell_type": "code",
   "execution_count": 146,
   "metadata": {},
   "outputs": [
    {
     "name": "stdout",
     "output_type": "stream",
     "text": [
      "how many ROIs?\n"
     ]
    },
    {
     "ename": "ValueError",
     "evalue": "invalid literal for int() with base 10: ''",
     "output_type": "error",
     "traceback": [
      "\u001b[0;31m---------------------------------------------------------------------------\u001b[0m",
      "\u001b[0;31mValueError\u001b[0m                                Traceback (most recent call last)",
      "\u001b[0;32m<ipython-input-146-6c4343a9582d>\u001b[0m in \u001b[0;36m<module>\u001b[0;34m()\u001b[0m\n\u001b[0;32m----> 1\u001b[0;31m \u001b[0mnumberofROIs\u001b[0m \u001b[0;34m=\u001b[0m \u001b[0mint\u001b[0m\u001b[0;34m(\u001b[0m\u001b[0mraw_input\u001b[0m\u001b[0;34m(\u001b[0m\u001b[0;34m'how many ROIs?'\u001b[0m\u001b[0;34m)\u001b[0m\u001b[0;34m)\u001b[0m\u001b[0;34m\u001b[0m\u001b[0m\n\u001b[0m\u001b[1;32m      2\u001b[0m \u001b[0;32mprint\u001b[0m \u001b[0;34m(\u001b[0m\u001b[0mnumberofROIs\u001b[0m\u001b[0;34m)\u001b[0m\u001b[0;34m\u001b[0m\u001b[0m\n\u001b[1;32m      3\u001b[0m \u001b[0;34m\u001b[0m\u001b[0m\n\u001b[1;32m      4\u001b[0m \u001b[0;32mif\u001b[0m \u001b[0mnumberofROIs\u001b[0m \u001b[0;34m<\u001b[0m \u001b[0;36m1\u001b[0m\u001b[0;34m:\u001b[0m\u001b[0;34m\u001b[0m\u001b[0m\n\u001b[1;32m      5\u001b[0m     \u001b[0;32mprint\u001b[0m\u001b[0;34m(\u001b[0m\u001b[0;34m'no ROIs. Exiting...'\u001b[0m\u001b[0;34m)\u001b[0m\u001b[0;34m\u001b[0m\u001b[0m\n",
      "\u001b[0;31mValueError\u001b[0m: invalid literal for int() with base 10: ''"
     ]
    }
   ],
   "source": [
    "numberofROIs = int(raw_input('how many ROIs?'))\n",
    "print (numberofROIs)\n",
    "    \n",
    "if numberofROIs < 1:\n",
    "    print('no ROIs. Exiting...')\n",
    "    sys.exit()\n",
    "for i in range (0, (numberofROIs), 1):\n",
    "    ROI_low, ROI_high = selectROI()\n",
    "    centroidguess, amplitudeguess, ROIrangemin, ROIrangemax = findpeaks(spec.energies_kev, spec.counts_vals, ROI_low, ROI_high)\n",
    "    plot_spectrum_raw(spec.energies_kev[ROI_low:ROI_high], spec.counts_vals[ROI_low:ROI_high])\n",
    "    peakfwhm, peakfwhmerr, peakcenter, peaksigma, peakheight, peakamplitude = FitGaussianPeakLinearBackground(spec.energies_kev[ROIrangemin:ROIrangemax], spec.counts_vals[ROIrangemin:ROIrangemax], amplitudeguess, centroidguess, 1)\n",
    "    print(peakcenter)\n",
    "    sys.exit()"
   ]
  },
  {
   "cell_type": "code",
   "execution_count": 61,
   "metadata": {},
   "outputs": [
    {
     "name": "stdout",
     "output_type": "stream",
     "text": [
      "1107731.52388\n",
      "38280.8694215\n"
     ]
    }
   ],
   "source": [
    "#print(nrgs)\n",
    "print(max(nrgs))\n",
    "print(min(nrgs))"
   ]
  },
  {
   "cell_type": "code",
   "execution_count": 62,
   "metadata": {},
   "outputs": [
    {
     "data": {
      "text/plain": [
       "(37,)"
      ]
     },
     "execution_count": 62,
     "metadata": {},
     "output_type": "execute_result"
    }
   ],
   "source": [
    "np.shape(nrgs)"
   ]
  },
  {
   "cell_type": "code",
   "execution_count": null,
   "metadata": {
    "collapsed": true
   },
   "outputs": [],
   "source": [
    "plt.hist(nrgs, 500, range=(4e4, 8e4))\n",
    "#plt.xlim([0, 200000])\n",
    "plt.show()"
   ]
  },
  {
   "cell_type": "code",
   "execution_count": 73,
   "metadata": {
    "collapsed": true
   },
   "outputs": [],
   "source": [
    "@jit(parallel=True)\n",
    "def baseline_correction(data):\n",
    "    n_data = len(data)\n",
    "    baseline_correction_value = np.mean(data[0:799])\n",
    "    for i in range(0, n_data, 1):\n",
    "        data[i] = data[i] - baseline_correction_value\n",
    "    return data\n",
    "\n",
    "def test_baseline_correction():\n",
    "    data = []\n",
    "    for i in range(0, 800, 1): # TODO NOT WORKING\n",
    "        data.append(100)\n",
    "    for i in range(800, 810, 1):\n",
    "        data.append(500)\n",
    "    data = baseline_correction(data)\n",
    "    assert data[10] == 0\n",
    "\n",
    "def exp_func(x,a,b):\n",
    "    return a*np.exp(-x/b)\n",
    "def fit_exponential(data):\n",
    "    xdata = np.arange(len(data))\n",
    "    ydata = np.array(data)\n",
    "    fit,fit2 = opt.curve_fit(exp_func,xdata,ydata)\n",
    "    return int(np.round(fit[1]))\n",
    "\n",
    "@jit(parallel=True)\n",
    "def pz_correction(data, tau):\n",
    "    pz_corrected = []\n",
    "    pz_correction = []\n",
    "    for i in range(0, n_data, 1):\n",
    "        pz = np.sum(data[1:i-1])\n",
    "        pz_correction.append(pz)\n",
    "        #tau = 30000\n",
    "        pz_corrected.append(data[i] + pz / tau)\n",
    "    return pz_corrected\n",
    "\n",
    "@jit(parallel=True)\n",
    "def trapezoidal_filter(data, gap_time, peaking_time):\n",
    "    m = gap_time\n",
    "    k = peaking_time\n",
    "    l = peaking_time + gap_time\n",
    "    filtered_signal = [0]*4096\n",
    "    #print(filtered_signal[0:10])\n",
    "    for j in range(k + 1, k + m, 1):\n",
    "        sig = np.sum(data[j - k: j])\n",
    "        filtered_signal[j] = sig\n",
    "    for j in range(k + l + 1, n_data, 1):\n",
    "        sig = np.sum(data[j - k: j]) - np.sum(data[j - l - k: j - l])\n",
    "       # if j%1000 == 0:\n",
    "       #     plt.plot(data)\n",
    "       #     plt.plot(np.linspace(j-k, j, k), data[j - k: j], 'ob')\n",
    "       #     plt.plot(np.linspace(j- l - k, j - l, k), data[j - l - k: j - l], 'or')\n",
    "       #     plt.show()\n",
    "        filtered_signal[j] = sig\n",
    "\n",
    "    #print(filtered_signal[0:10])\n",
    "    #print(filtered_signal[-10:-1])\n",
    "    return filtered_signal\n",
    "\n",
    "def get_energy_value(data): # TODO\n",
    "    energy = max(data)\n",
    "    return energy\n",
    "\n",
    "def get_time_values(length_of_data, sampling_time):\n",
    "    time_values = np.linspace(0, length_of_data * sampling_time, length_of_data)\n",
    "    return time_values"
   ]
  },
  {
   "cell_type": "code",
   "execution_count": 74,
   "metadata": {
    "collapsed": true
   },
   "outputs": [],
   "source": [
    "\n",
    "@jit(parallel=True)\n",
    "def trapezoidal_filter_2(data, gap_time, peaking_time):\n",
    "    # ------- Apply exponential fit for the M multiplication --------------#\n",
    "    # out = exp_fit(signal, plot_comps = None)\n",
    "    # tau = out['exp_decay'].value #in nanoseconds\n",
    "    # tau_std = out['exp_decay'].stderr\n",
    "    # T_sp = 1 #nano seconds\n",
    "    # M= tau\n",
    "    # print('M ',M)\n",
    "    ##---------Start of filter---------------------------#\n",
    "    filtered_signal = [0]*4096  # 4096 = signal length in this data set, change as needed\n",
    "    k = peaking_time\n",
    "    m = gap_time\n",
    "\n",
    "    M = 4400\n",
    "\n",
    "    sum_3 = np.zeros(len(signal), dtype=np.float32)\n",
    "    sum_4 = np.zeros(len(signal), dtype=np.float32)\n",
    "    acc_1 = np.zeros(len(signal), dtype=np.float32)\n",
    "    acc_2 = np.zeros(len(signal), dtype=np.float32)\n",
    "\n",
    "    for i in range(2 * k + m, len(signal)):  # following block diagram in Jordanov paper\n",
    "        sum1 = signal[i] - signal[i - k]\n",
    "        sum2 = signal[i - k - m - k] - signal[i - k - m]\n",
    "        sum_3[i] = sum1 + sum2\n",
    "        acc_1[i] = sum_3[i] + acc_1[i - 1]\n",
    "        sum_4[i] = acc_1[i] + M * sum_3[i]\n",
    "        acc_2[i] = sum_4[i] + acc_2[i-1]\n",
    "\n",
    "    return acc_2\n",
    "\n",
    "\n",
    "def exp_fit(signal, plot_comps=None):\n",
    "    '''\n",
    "    out = exp_fit takes a range of data that and fits an exponential to the tail\n",
    "    of the amplitude pulse returning the parameters of the peak\n",
    "    with out.params\n",
    "\n",
    "    To access the data do out['exp_amplitude'].value or out['exp_amplitude'].stderr\n",
    "\n",
    "    signal: input pulse from digitizer\n",
    "    '''\n",
    "    x_lbound = 1100 #np.argmax(signal)\n",
    "    x_ubound = 4096 #signal.shape[0]\n",
    "\n",
    "    x_exp = range(x_lbound, x_ubound)\n",
    "    #exp_data = signal[x_exp]\n",
    "    exp_data = signal[1100:4096]\n",
    "    y = np.asarray(exp_data)\n",
    "    x = np.asarray(x_exp)\n",
    "\n",
    "    exp_mod = ExponentialModel(prefix='exp_')\n",
    "    pars = exp_mod.guess(y, x=x)\n",
    "\n",
    "    mod = exp_mod\n",
    "\n",
    "    init = mod.eval(pars, x=x)\n",
    "\n",
    "    out = mod.fit(y, pars, x=x)\n",
    "    #print(out.fit_report())\n",
    "\n",
    "    if plot_comps == True:\n",
    "        plt.figure()\n",
    "        plt.plot(signal, 'b')\n",
    "        plt.plot(x, out.best_fit, 'r--')\n",
    "        amp = out.params['exp_amplitude'].value\n",
    "        decay = out.params['exp_decay'].value\n",
    "\n",
    "        plt.annotate('$%0.2f*e^{-x/%0.4f \\mu s} ---add units$' % (amp , decay), xy=(1700, 600), xytext=(2000, 650),\n",
    "            arrowprops=dict(facecolor='black', shrink=0.05),\n",
    "            )\n",
    "\n",
    "        plt.show()\n",
    "\n",
    "    return out.params\n",
    "\n",
    "# START HERE FOR PASTED\n",
    "\n",
    "def energy_value(filtered_signal, pickoff=None):\n",
    "    if pickoff is None:\n",
    "        reading = np.max(filtered_signal)\n",
    "    else:\n",
    "        if pickoff == 'Midpoint':  # i.e. FWHM\n",
    "            half_max = np.max(filtered_signal)/2\n",
    "            d = np.sign(half_max - np.array(filtered_signal[0:-1])) - np.sign(half_max - np.array(filtered_signal[1:]))\n",
    "            left_idx = np.argwhere(d > 0)[0]\n",
    "            right_idx = np.argwhere(d < 0)[-1]\n",
    "            if (left_idx + right_idx) % 2 == 0:\n",
    "                reading = (filtered_signal[(left_idx + right_idx)/2])\n",
    "            else:\n",
    "                shift = left_idx + ((left_idx + right_idx-1)/2)\n",
    "                reading = (((filtered_signal[shift] + filtered_signal[shift+1])/2)+0.5)\n",
    "        else:\n",
    "            ValueError('{pick} is not None or Midpoint'.format(pick=pickoff))\n",
    "    return int(reading)\n",
    "\n",
    "\n",
    "def filter_and_get_energy(data, peak, gap):\n",
    "    signal = data\n",
    "    signal = baseline_correction(signal)\n",
    "    #t = 100\n",
    "    #signal = pz_correction(signal, t)\n",
    "    signal = trapezoidal_filter_2(signal, gap, peak)\n",
    "    energy_value = get_energy_value(signal)\n",
    "    return energy_value\n"
   ]
  },
  {
   "cell_type": "code",
   "execution_count": 78,
   "metadata": {},
   "outputs": [
    {
     "name": "stdout",
     "output_type": "stream",
     "text": [
      "('XVAL', 4096)\n",
      "('RAW ', 4096)\n"
     ]
    },
    {
     "data": {
      "image/png": "[encoded data removed]",
      "text/plain": [
       "<matplotlib.figure.Figure at 0x111d66150>"
      ]
     },
     "metadata": {},
     "output_type": "display_data"
    },
    {
     "data": {
      "image/png": "[encoded data removed]",
      "text/plain": [
       "<matplotlib.figure.Figure at 0x1135efa90>"
      ]
     },
     "metadata": {},
     "output_type": "display_data"
    },
    {
     "name": "stdout",
     "output_type": "stream",
     "text": [
      "2.38843e+08\n",
      "('gain = ', 1.0)\n"
     ]
    },
    {
     "data": {
      "image/png": "[encoded data removed]",
      "text/plain": [
       "<matplotlib.figure.Figure at 0x1127eee90>"
      ]
     },
     "metadata": {},
     "output_type": "display_data"
    }
   ],
   "source": [
    "\n",
    "if __name__ == \"__main__\":\n",
    "\n",
    "    filename = './DATA_co60_2.h5'\n",
    "    hf = tables.open_file(filename, \"r\")\n",
    "\n",
    "    event_data = hf.root.EventData.read()\n",
    "    raw_data = hf.root.RawData.read()\n",
    "    hf.close()\n",
    "\n",
    "    sampling_time = 10.0\n",
    "    n_data = 4096\n",
    "    x_values = np.linspace(0, n_data, n_data)\n",
    "    print(\"XVAL\" , len(x_values))\n",
    "\n",
    "    k = 100 # peaking\n",
    "    m = 100 # gap\n",
    "    raw_signal = raw_data[2,:]\n",
    "    print(\"RAW \", len(raw_signal))\n",
    "    plt.plot(x_values, raw_signal)\n",
    "    signal = baseline_correction(raw_signal)\n",
    "    signal = trapezoidal_filter_2(signal, m, k)\n",
    "\n",
    "    plt.figure(41)\n",
    "    plt.cla()\n",
    "    plt.clf()\n",
    "    plt.plot(x_values, signal)\n",
    "    plt.title('sample sig')\n",
    "    plt.show()\n",
    "\n",
    "    energy = get_energy_value(signal)\n",
    "    print(energy)\n",
    "\n",
    "    nrgs_2 = []\n",
    "    number_of_events = len(raw_data)\n",
    "    number_of_events = 1\n",
    "    assert number_of_events < len(raw_data)\n",
    "    k = 100 # peaking time\n",
    "    l = 100 # gap\n",
    "\n",
    "    for i in range(0, number_of_events, 1):\n",
    "        gap = 100\n",
    "        peak = 100\n",
    "        signal = raw_data[i,:]\n",
    "        signal = baseline_correction(signal)\n",
    "        maxval = max(signal)\n",
    "        signal = signal / maxval\n",
    "        signal = trapezoidal_filter_2(signal, gap, peak)\n",
    "        signal = signal / 424829.69\n",
    "        print('gain = ', max(signal))\n",
    "        nrg = get_energy_value(signal)\n",
    "        #nrg = filter_and_get_energy(raw_data[i,:], gap, peak)\n",
    "        nrgs_2.append(round(nrg, 7))\n",
    "\n",
    "\n",
    "\n",
    "    plt.hist(nrgs_2, 500, log=True)\n",
    "    plt.show()"
   ]
  },
  {
   "cell_type": "code",
   "execution_count": null,
   "metadata": {
    "collapsed": true
   },
   "outputs": [],
   "source": [
    "print(len(raw_data))\n",
    "plt.hist(nrgs_2, 500, log=True, range=(min(nrgs_2), max(nrgs_2)))\n",
    "plt.show()"
   ]
  },
  {
   "cell_type": "code",
   "execution_count": null,
   "metadata": {
    "collapsed": true
   },
   "outputs": [],
   "source": []
  },
  {
   "cell_type": "code",
   "execution_count": null,
   "metadata": {
    "collapsed": true
   },
   "outputs": [],
   "source": []
  },
  {
   "cell_type": "code",
   "execution_count": null,
   "metadata": {
    "collapsed": true
   },
   "outputs": [],
   "source": [
    "filename = './DATA_co60_2.h5'\n",
    "hf = tables.open_file(filename, \"r\")\n",
    "\n",
    "event_data = hf.root.EventData.read()\n",
    "raw_data = hf.root.RawData.read()\n",
    "hf.close()\n",
    "\n",
    "sampling_time = 10.0\n",
    "n_data = 4096\n",
    "x_values = np.linspace(0, n_data, n_data)\n",
    "print(\"XVAL\" , len(x_values))\n",
    "\n",
    "k = 100 # peaking\n",
    "m = 100 # gap\n",
    "nrgsraw = []\n",
    "for i in range(0, 10, 1):\n",
    "    raw_signal = raw_data[i,:]\n",
    "    \n",
    "    #plt.plot(x_values, raw_signal)\n",
    "    signal = baseline_correction(raw_signal)\n",
    "    #nrgsraw.append(max(signal))\n",
    "    signal = trapezoidal_filter_2(signal, m, k)\n",
    "    nrgsraw.append(max(signal))\n",
    "    plt.figure(41)\n",
    "    plt.plot(x_values, signal)\n",
    "plt.title('sample sig')\n",
    "plt.xlim((1090, 1110))\n",
    "plt.ylim((2.38350*10**8, 2.38450*10**8))\n",
    "plt.show()\n",
    "\n",
    "plt.hist(nrgsraw)\n",
    "plt.show()"
   ]
  },
  {
   "cell_type": "code",
   "execution_count": null,
   "metadata": {
    "collapsed": true
   },
   "outputs": [],
   "source": []
  },
  {
   "cell_type": "code",
   "execution_count": null,
   "metadata": {
    "collapsed": true
   },
   "outputs": [],
   "source": []
  }
 ],
 "metadata": {
  "kernelspec": {
   "display_name": "Python 2",
   "language": "python",
   "name": "python2"
  },
  "language_info": {
   "codemirror_mode": {
    "name": "ipython",
    "version": 2
   },
   "file_extension": ".py",
   "mimetype": "text/x-python",
   "name": "python",
   "nbconvert_exporter": "python",
   "pygments_lexer": "ipython2",
   "version": "2.7.14"
  }
 },
 "nbformat": 4,
 "nbformat_minor": 2
}
