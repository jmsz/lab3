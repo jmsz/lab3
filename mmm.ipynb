{
 "cells": [
  {
   "cell_type": "code",
   "execution_count": 3,
   "metadata": {},
   "outputs": [
    {
     "name": "stdout",
     "output_type": "stream",
     "text": [
      "Populating the interactive namespace from numpy and matplotlib\n"
     ]
    }
   ],
   "source": [
    "\n",
    "%pylab inline\n",
    "import pandas as pd\n",
    "from numba import jit\n",
    "import h5py\n",
    "import os\n",
    "#import becquerel\n",
    "from lmfit.models import LinearModel\n",
    "from lmfit.models import ExponentialModel\n",
    "from lmfit.models import GaussianModel\n",
    "from lmfit.models import QuadraticModel\n",
    "#import becquerel as bq\n",
    "from pathlib import Path\n",
    "#from becquerel.tools import nndc\n",
    "import IPython.display as iDisplay\n",
    "#from becquerel.tools.isotope import Isotope\n",
    "#from becquerel.tools.isotope_qty import IsotopeQuantity, NeutronIrradiation\n",
    "import datetime\n",
    "import operator\n",
    "\n"
   ]
  },
  {
   "cell_type": "code",
   "execution_count": 6,
   "metadata": {
    "collapsed": true
   },
   "outputs": [],
   "source": [
    "filename = './DATA_co60_2.h5'  #wherever your file is \n",
    "data = h5py.File(filename, 'r')"
   ]
  },
  {
   "cell_type": "code",
   "execution_count": 7,
   "metadata": {},
   "outputs": [
    {
     "data": {
      "image/png": "[encoded data removed]",
      "text/plain": [
       "<matplotlib.figure.Figure at 0x7f6d4b8d67b8>"
      ]
     },
     "metadata": {},
     "output_type": "display_data"
    },
    {
     "data": {
      "text/plain": [
       "4096"
      ]
     },
     "execution_count": 7,
     "metadata": {},
     "output_type": "execute_result"
    }
   ],
   "source": [
    "plt.figure()\n",
    "plt.plot(data['RawData'][2,:])\n",
    "plt.show()\n",
    "mysignal = data['RawData'][2,:]\n",
    "n_data = len(mysignal)\n",
    "n_data"
   ]
  },
  {
   "cell_type": "code",
   "execution_count": 10,
   "metadata": {
    "collapsed": true
   },
   "outputs": [],
   "source": [
    "\n",
    "\n",
    "@jit(parallel = True)\n",
    "def restore_baseline(signal):\n",
    "    x = np.argmax(signal)\n",
    "    baseline = np.mean(signal[0:(x-1)])\n",
    "    baseline_restore = signal - (baseline*np.ones(len(signal)))\n",
    "    return baseline_restore\n",
    "\n"
   ]
  },
  {
   "cell_type": "code",
   "execution_count": 11,
   "metadata": {},
   "outputs": [
    {
     "data": {
      "image/png": "[encoded data removed]",
      "text/plain": [
       "<matplotlib.figure.Figure at 0x7f6d49243630>"
      ]
     },
     "metadata": {},
     "output_type": "display_data"
    }
   ],
   "source": [
    "mysignal_restore = restore_baseline(mysignal)\n",
    "plt.figure()\n",
    "plt.plot(mysignal_restore)\n",
    "plt.show()"
   ]
  },
  {
   "cell_type": "code",
   "execution_count": 12,
   "metadata": {
    "collapsed": true
   },
   "outputs": [],
   "source": [
    "def exp_fit(signal, plot_comps=None):\n",
    "    '''\n",
    "    out = exp_fit takes a range of data that and fits an exponential to the tail\n",
    "    of the amplitude pulse returning the parameters of the peak\n",
    "    with out.params\n",
    "\n",
    "    To access the data do out['exp_amplitude'].value or out['exp_amplitude'].stderr\n",
    "\n",
    "    signal: input pulse from digitizer\n",
    "    '''\n",
    "    x_lbound = np.argmax(signal)\n",
    "    x_ubound = signal.shape[0]\n",
    "    \n",
    "    x_exp = range(x_lbound, x_ubound)\n",
    "    exp_data = signal[x_exp]\n",
    "    y = np.asarray(exp_data)\n",
    "    x = np.asarray(x_exp)\n",
    "\n",
    "    exp_mod = ExponentialModel(prefix='exp_')\n",
    "    pars = exp_mod.guess(y, x=x)\n",
    "\n",
    "    mod = exp_mod\n",
    "\n",
    "    init = mod.eval(pars, x=x)\n",
    "\n",
    "    out = mod.fit(y, pars, x=x)\n",
    "    #print(out.fit_report())\n",
    "\n",
    "    if plot_comps == True:\n",
    "        plt.figure()\n",
    "        plt.plot(signal, 'b')\n",
    "        plt.plot(x, out.best_fit, 'r--')\n",
    "        amp = out.params['exp_amplitude'].value\n",
    "        decay = out.params['exp_decay'].value\n",
    "        \n",
    "        plt.annotate('$%0.2f*e^{-x/%0.4f \\mu s} ---add units$' % (amp , decay), xy=(1700, 600), xytext=(2000, 650),\n",
    "            arrowprops=dict(facecolor='black', shrink=0.05),\n",
    "            )\n",
    "\n",
    "        plt.show()\n",
    "        \n",
    "    return out.params"
   ]
  },
  {
   "cell_type": "code",
   "execution_count": 13,
   "metadata": {
    "collapsed": true
   },
   "outputs": [],
   "source": [
    "@jit(parallel=True)\n",
    "def trap_filter_parallel(signal, k, m):\n",
    "    \n",
    "    ''' \n",
    "    k               Peaking time (in samples) \n",
    "    m               Gap time (in samples) \n",
    "\n",
    "    Start at 2*k+m\n",
    "    '''\n",
    "    \n",
    "    # ------- Apply exponential fit for the M multiplication --------------#\n",
    "    #out = exp_fit(signal, plot_comps = False)\n",
    "    #tau = out['exp_decay'].value #in nanoseconds\n",
    "    #tau_std = out['exp_decay'].stderr\n",
    "    #T_sp = 10 #nano seconds\n",
    "    \n",
    "#     M = 1/(np.exp(T_sp/tau) - 1)\n",
    "#     if tau/T_sp > 5:\n",
    "#         M = tau/T_sp - 0.5\n",
    "    M= 4400 \n",
    "    ##---------Start of filter---------------------------#\n",
    "    \n",
    "    acc1 = np.zeros(len(signal), dtype = np.float32) # accumulator\n",
    "    acc2 = np.zeros(len(signal), dtype = np.float32) # accumulator\n",
    "    sum_3 = np.zeros(len(signal), dtype = np.float32) # accumulator\n",
    "    sum_4 = np.zeros(len(signal), dtype = np.float32) # accumulator\n",
    "\n",
    "    for i in range(2*k+m, len(signal)):\n",
    "        sum_3[i] = signal[i] - signal[i - k] - signal[i - k - m] + signal[i - 2*k-m]\n",
    "        acc1[i] = sum_3[i] + acc1[i-1] \n",
    "        sum_4[i] = acc1[i] + M * sum_3[i]\n",
    "        acc2[i] =  acc2[i-1] + sum_4[i] \n",
    "    return acc2"
   ]
  },
  {
   "cell_type": "code",
   "execution_count": 14,
   "metadata": {
    "collapsed": true
   },
   "outputs": [],
   "source": [
    "def trap_filter_plot(signal, k, m, plot_ = None):\n",
    "    ''' \n",
    "    k               Peaking time (in samples) \n",
    "    m               Gap time (in samples) \n",
    "\n",
    "    Start at 2*k+m\n",
    "    '''\n",
    "    # ------- Apply exponential fit for the M multiplication --------------#\n",
    "    out = exp_fit(signal, plot_comps = False)\n",
    "    tau = out['exp_decay'].value #in nanoseconds\n",
    "    tau_std = out['exp_decay'].stderr\n",
    "    T_sp = 10 #nano seconds\n",
    "    \n",
    "#     M = 1/(np.exp(T_sp/tau) - 1)\n",
    "#     if tau/T_sp > 5:\n",
    "#         M = tau/T_sp - 0.5\n",
    "    M= tau  \n",
    "    ##---------Start of filter---------------------------#\n",
    "    \n",
    "    acc1 = np.zeros(len(signal), dtype = np.float32) # accumulator\n",
    "    acc2 = np.zeros(len(signal), dtype = np.float32) # accumulator\n",
    "    sum_3 = np.zeros(len(signal), dtype = np.float32) # accumulator\n",
    "    sum_4 = np.zeros(len(signal), dtype = np.float32) # accumulator\n",
    "\n",
    "    for i in range(2*k+m, len(signal)):\n",
    "        sum_3[i] = signal[i] - signal[i - k] - signal[i - k - m] + signal[i - 2*k-m]\n",
    "        acc1[i] = sum_3[i] + acc1[i-1] \n",
    "        sum_4[i] = acc1[i] + M * sum_3[i]\n",
    "        acc2[i] =  acc2[i-1] + sum_4[i] \n",
    "    \n",
    "    if plot_ == True:\n",
    "        plt.figure()\n",
    "        plt.plot(acc2)\n",
    "        plt.title('Shaped Signal')\n",
    "        plt.xlabel('Time $[ns]$')\n",
    "        plt.ylabel('Digital Code')\n",
    "        plt.show()\n",
    "    return acc2"
   ]
  },
  {
   "cell_type": "code",
   "execution_count": 15,
   "metadata": {},
   "outputs": [
    {
     "data": {
      "image/png": "[encoded data removed]",
      "text/plain": [
       "<matplotlib.figure.Figure at 0x7f6d443c5630>"
      ]
     },
     "metadata": {},
     "output_type": "display_data"
    }
   ],
   "source": [
    "trap_signal = trap_filter_plot(mysignal_restore, 100, 100, plot_ = True)"
   ]
  },
  {
   "cell_type": "code",
   "execution_count": 16,
   "metadata": {
    "collapsed": true
   },
   "outputs": [],
   "source": [
    "@jit(parallel = True)\n",
    "def trap_spectrum(rawdata):\n",
    "    '''\n",
    "    trap_spectrum(rawdata) takes the raw data spectrum from the hdf5 and does the following to the whole file:\n",
    "    * baseline restore\n",
    "    * applies an expontential fit to the tail of the pulse\n",
    "    * trapezoidal filter\n",
    "    * bins the data \n",
    "    '''\n",
    "    nrg_peaks = np.zeros(len(rawdata), dtype = np.float32)\n",
    "    for i, pulses in enumerate(rawdata):\n",
    "        signal_restore = restore_baseline(pulses)\n",
    "        trap_signal = trap_filter_parallel(signal_restore, 100, 10)\n",
    "        nrg_peaks[i] = max(trap_signal)\n",
    "    return nrg_peaks"
   ]
  },
  {
   "cell_type": "code",
   "execution_count": 17,
   "metadata": {},
   "outputs": [
    {
     "name": "stdout",
     "output_type": "stream",
     "text": [
      "CPU times: user 25.2 s, sys: 5.63 s, total: 30.8 s\n",
      "Wall time: 26.4 s\n"
     ]
    }
   ],
   "source": [
    "%time nrg = trap_spectrum(data['RawData'])\n"
   ]
  },
  {
   "cell_type": "code",
   "execution_count": 19,
   "metadata": {
    "collapsed": true
   },
   "outputs": [],
   "source": [
    "def bin_data(filtered_signal):   \n",
    "    '''\n",
    "    bin_data(filtered_signal) bins the data from a trapezoidal filter\n",
    "    '''\n",
    "    counts, bin_edges = np.histogram(filtered_signal, bins=2048, range=[1.0e8, 3.5e8])\n",
    "    bin_centers = (bin_edges[1:]+bin_edges[:-1])/2\n",
    "    return bin_centers, counts"
   ]
  },
  {
   "cell_type": "code",
   "execution_count": 20,
   "metadata": {
    "collapsed": true
   },
   "outputs": [],
   "source": [
    "bc, cnts = bin_data(nrg)"
   ]
  },
  {
   "cell_type": "code",
   "execution_count": 21,
   "metadata": {},
   "outputs": [
    {
     "data": {
      "text/plain": [
       "[<matplotlib.lines.Line2D at 0x7f6d4878ce80>]"
      ]
     },
     "execution_count": 21,
     "metadata": {},
     "output_type": "execute_result"
    },
    {
     "data": {
      "image/png": "[encoded data removed]",
      "text/plain": [
       "<matplotlib.figure.Figure at 0x7f6d486fc978>"
      ]
     },
     "metadata": {},
     "output_type": "display_data"
    }
   ],
   "source": [
    "plt.figure()\n",
    "plt.plot(bc, cnts)"
   ]
  },
  {
   "cell_type": "code",
   "execution_count": 23,
   "metadata": {},
   "outputs": [
    {
     "name": "stdout",
     "output_type": "stream",
     "text": [
      "2048\n"
     ]
    }
   ],
   "source": [
    "print(len(bc))"
   ]
  },
  {
   "cell_type": "code",
   "execution_count": null,
   "metadata": {
    "collapsed": true
   },
   "outputs": [],
   "source": []
  }
 ],
 "metadata": {
  "kernelspec": {
   "display_name": "Python 2",
   "language": "python",
   "name": "python2"
  },
  "language_info": {
   "codemirror_mode": {
    "name": "ipython",
    "version": 2
   },
   "file_extension": ".py",
   "mimetype": "text/x-python",
   "name": "python",
   "nbconvert_exporter": "python",
   "pygments_lexer": "ipython2",
   "version": "2.7.14"
  }
 },
 "nbformat": 4,
 "nbformat_minor": 2
}
